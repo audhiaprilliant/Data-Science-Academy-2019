{
 "cells": [
  {
   "cell_type": "markdown",
   "metadata": {},
   "source": [
    "<h1>Data Science Competition 2019 - Elimination Round</h1>"
   ]
  },
  {
   "cell_type": "markdown",
   "metadata": {},
   "source": [
    "<h5>Ini Kita - IPB University</h5>"
   ]
  },
  {
   "cell_type": "markdown",
   "metadata": {},
   "source": [
    "<h2>Import Packages</h2>"
   ]
  },
  {
   "cell_type": "code",
   "execution_count": 56,
   "metadata": {},
   "outputs": [],
   "source": [
    "library(dplyr)"
   ]
  },
  {
   "cell_type": "markdown",
   "metadata": {},
   "source": [
    "<h2>Load the Raw Data</h2>"
   ]
  },
  {
   "cell_type": "code",
   "execution_count": 57,
   "metadata": {
    "collapsed": true
   },
   "outputs": [],
   "source": [
    "# Load the Employee Data and Location Data\n",
    "data.location = read.csv(file = 'D:/Audhi Aprilliant/Personal Data/Scientific Essay Competitions/STATISTICS COMPETITION/Data Science Academy 2019/Elimination Round/Datasets/catatan_lokasi.csv',\n",
    "                         header = TRUE,\n",
    "                         sep = ',')"
   ]
  },
  {
   "cell_type": "code",
   "execution_count": 58,
   "metadata": {
    "collapsed": true
   },
   "outputs": [],
   "source": [
    "data.location = tbl_df(data.location)"
   ]
  },
  {
   "cell_type": "code",
   "execution_count": 59,
   "metadata": {},
   "outputs": [
    {
     "name": "stdout",
     "output_type": "stream",
     "text": [
      "Observations: 2,600\n",
      "Variables: 3\n",
      "$ id             <int> 1, 2, 3, 4, 5, 6, 7, 8, 9, 10, 11, 12, 13, 14, 15, 1...\n",
      "$ tanggal        <fct> 21/05/19, 21/05/19, 21/05/19, 21/05/19, 21/05/19, 21...\n",
      "$ lokasi_dominan <fct> Jakarta Pusat, Kabupaten Bogor, Jakarta Pusat, Kota ...\n"
     ]
    }
   ],
   "source": [
    "glimpse(data.location)"
   ]
  },
  {
   "cell_type": "code",
   "execution_count": 60,
   "metadata": {},
   "outputs": [
    {
     "data": {
      "text/html": [
       "<table>\n",
       "<thead><tr><th scope=col>id</th><th scope=col>tanggal</th><th scope=col>lokasi_dominan</th></tr></thead>\n",
       "<tbody>\n",
       "\t<tr><td>1              </td><td>21/05/19       </td><td>Jakarta Pusat  </td></tr>\n",
       "\t<tr><td>2              </td><td>21/05/19       </td><td>Kabupaten Bogor</td></tr>\n",
       "\t<tr><td>3              </td><td>21/05/19       </td><td>Jakarta Pusat  </td></tr>\n",
       "\t<tr><td>4              </td><td>21/05/19       </td><td>Kota Tangerang </td></tr>\n",
       "\t<tr><td>5              </td><td>21/05/19       </td><td>Kota Bogor     </td></tr>\n",
       "\t<tr><td>6              </td><td>21/05/19       </td><td>Kota Bogor     </td></tr>\n",
       "</tbody>\n",
       "</table>\n"
      ],
      "text/latex": [
       "\\begin{tabular}{r|lll}\n",
       " id & tanggal & lokasi\\_dominan\\\\\n",
       "\\hline\n",
       "\t 1               & 21/05/19        & Jakarta Pusat  \\\\\n",
       "\t 2               & 21/05/19        & Kabupaten Bogor\\\\\n",
       "\t 3               & 21/05/19        & Jakarta Pusat  \\\\\n",
       "\t 4               & 21/05/19        & Kota Tangerang \\\\\n",
       "\t 5               & 21/05/19        & Kota Bogor     \\\\\n",
       "\t 6               & 21/05/19        & Kota Bogor     \\\\\n",
       "\\end{tabular}\n"
      ],
      "text/markdown": [
       "\n",
       "id | tanggal | lokasi_dominan | \n",
       "|---|---|---|---|---|---|\n",
       "| 1               | 21/05/19        | Jakarta Pusat   | \n",
       "| 2               | 21/05/19        | Kabupaten Bogor | \n",
       "| 3               | 21/05/19        | Jakarta Pusat   | \n",
       "| 4               | 21/05/19        | Kota Tangerang  | \n",
       "| 5               | 21/05/19        | Kota Bogor      | \n",
       "| 6               | 21/05/19        | Kota Bogor      | \n",
       "\n",
       "\n"
      ],
      "text/plain": [
       "  id tanggal  lokasi_dominan \n",
       "1 1  21/05/19 Jakarta Pusat  \n",
       "2 2  21/05/19 Kabupaten Bogor\n",
       "3 3  21/05/19 Jakarta Pusat  \n",
       "4 4  21/05/19 Kota Tangerang \n",
       "5 5  21/05/19 Kota Bogor     \n",
       "6 6  21/05/19 Kota Bogor     "
      ]
     },
     "metadata": {},
     "output_type": "display_data"
    }
   ],
   "source": [
    "head(data.location)"
   ]
  },
  {
   "cell_type": "code",
   "execution_count": 61,
   "metadata": {
    "collapsed": true
   },
   "outputs": [],
   "source": [
    "# Load the Employee Data and Location Data\n",
    "data.employee = read.csv(file = 'D:/Audhi Aprilliant/Personal Data/Scientific Essay Competitions/STATISTICS COMPETITION/Data Science Academy 2019/Elimination Round/Datasets/data_profil.csv',\n",
    "                         header = TRUE,\n",
    "                         sep = ',')"
   ]
  },
  {
   "cell_type": "code",
   "execution_count": 62,
   "metadata": {
    "collapsed": true
   },
   "outputs": [],
   "source": [
    "data.employee = tbl_df(data.employee)"
   ]
  },
  {
   "cell_type": "code",
   "execution_count": 63,
   "metadata": {},
   "outputs": [
    {
     "name": "stdout",
     "output_type": "stream",
     "text": [
      "Observations: 100\n",
      "Variables: 4\n",
      "$ id            <int> 1, 2, 3, 4, 5, 6, 7, 8, 9, 10, 11, 12, 13, 14, 15, 16...\n",
      "$ jenis_kelamin <fct> Laki-laki, Laki-laki, Laki-laki, Perempuan, Perempuan...\n",
      "$ divisi        <fct> Customer Service, Data Engineer, Software Engineer, B...\n",
      "$ umur          <int> 34, 26, 28, 21, 21, 28, 21, 22, 21, 21, 25, 28, 25, 2...\n"
     ]
    }
   ],
   "source": [
    "glimpse(data.employee)"
   ]
  },
  {
   "cell_type": "code",
   "execution_count": 64,
   "metadata": {},
   "outputs": [
    {
     "data": {
      "text/html": [
       "<table>\n",
       "<thead><tr><th scope=col>id</th><th scope=col>jenis_kelamin</th><th scope=col>divisi</th><th scope=col>umur</th></tr></thead>\n",
       "<tbody>\n",
       "\t<tr><td>1                    </td><td>Laki-laki            </td><td>Customer Service     </td><td>34                   </td></tr>\n",
       "\t<tr><td>2                    </td><td>Laki-laki            </td><td>Data Engineer        </td><td>26                   </td></tr>\n",
       "\t<tr><td>3                    </td><td>Laki-laki            </td><td>Software Engineer    </td><td>28                   </td></tr>\n",
       "\t<tr><td>4                    </td><td>Perempuan            </td><td>Business Intelligence</td><td>21                   </td></tr>\n",
       "\t<tr><td>5                    </td><td>Perempuan            </td><td>Software Engineer    </td><td>21                   </td></tr>\n",
       "\t<tr><td>6                    </td><td>Laki-laki            </td><td>Business Intelligence</td><td>28                   </td></tr>\n",
       "</tbody>\n",
       "</table>\n"
      ],
      "text/latex": [
       "\\begin{tabular}{r|llll}\n",
       " id & jenis\\_kelamin & divisi & umur\\\\\n",
       "\\hline\n",
       "\t 1                     & Laki-laki             & Customer Service      & 34                   \\\\\n",
       "\t 2                     & Laki-laki             & Data Engineer         & 26                   \\\\\n",
       "\t 3                     & Laki-laki             & Software Engineer     & 28                   \\\\\n",
       "\t 4                     & Perempuan             & Business Intelligence & 21                   \\\\\n",
       "\t 5                     & Perempuan             & Software Engineer     & 21                   \\\\\n",
       "\t 6                     & Laki-laki             & Business Intelligence & 28                   \\\\\n",
       "\\end{tabular}\n"
      ],
      "text/markdown": [
       "\n",
       "id | jenis_kelamin | divisi | umur | \n",
       "|---|---|---|---|---|---|\n",
       "| 1                     | Laki-laki             | Customer Service      | 34                    | \n",
       "| 2                     | Laki-laki             | Data Engineer         | 26                    | \n",
       "| 3                     | Laki-laki             | Software Engineer     | 28                    | \n",
       "| 4                     | Perempuan             | Business Intelligence | 21                    | \n",
       "| 5                     | Perempuan             | Software Engineer     | 21                    | \n",
       "| 6                     | Laki-laki             | Business Intelligence | 28                    | \n",
       "\n",
       "\n"
      ],
      "text/plain": [
       "  id jenis_kelamin divisi                umur\n",
       "1 1  Laki-laki     Customer Service      34  \n",
       "2 2  Laki-laki     Data Engineer         26  \n",
       "3 3  Laki-laki     Software Engineer     28  \n",
       "4 4  Perempuan     Business Intelligence 21  \n",
       "5 5  Perempuan     Software Engineer     21  \n",
       "6 6  Laki-laki     Business Intelligence 28  "
      ]
     },
     "metadata": {},
     "output_type": "display_data"
    }
   ],
   "source": [
    "head(data.employee)"
   ]
  },
  {
   "cell_type": "markdown",
   "metadata": {},
   "source": [
    "<h2>Convert Data - Normalization</h2>"
   ]
  },
  {
   "cell_type": "code",
   "execution_count": 65,
   "metadata": {
    "collapsed": true
   },
   "outputs": [],
   "source": [
    "data.column = data.location"
   ]
  },
  {
   "cell_type": "code",
   "execution_count": 66,
   "metadata": {
    "collapsed": true
   },
   "outputs": [],
   "source": [
    "# Make Index\n",
    "bottom.trace = seq(from = 1,to = dim(data.column)[1],by = dim(data.employee)[1])\n",
    "up.trace = seq(from = 100,to = dim(data.column)[1],by = dim(data.employee)[1])\n",
    "up.trace = up.trace\n",
    "data.final = data.employee[,]\n",
    "\n",
    "# Function for convert the data\n",
    "for(i in 1:length(up.trace)) {\n",
    "    data.split = data.column[bottom.trace[i]:up.trace[i],3]\n",
    "    data.final = cbind(data.final,\n",
    "                        data.split)\n",
    "}"
   ]
  },
  {
   "cell_type": "code",
   "execution_count": 67,
   "metadata": {},
   "outputs": [
    {
     "data": {
      "text/html": [
       "<table>\n",
       "<thead><tr><th scope=col>id</th><th scope=col>jenis_kelamin</th><th scope=col>divisi</th><th scope=col>umur</th><th scope=col>lokasi_dominan</th><th scope=col>lokasi_dominan.1</th><th scope=col>lokasi_dominan.2</th><th scope=col>lokasi_dominan.3</th><th scope=col>lokasi_dominan.4</th><th scope=col>lokasi_dominan.5</th><th scope=col>...</th><th scope=col>lokasi_dominan</th><th scope=col>lokasi_dominan.1</th><th scope=col>lokasi_dominan.2</th><th scope=col>lokasi_dominan.3</th><th scope=col>lokasi_dominan.4</th><th scope=col>lokasi_dominan.5</th><th scope=col>lokasi_dominan.6</th><th scope=col>lokasi_dominan.7</th><th scope=col>lokasi_dominan.8</th><th scope=col>lokasi_dominan.9</th></tr></thead>\n",
       "<tbody>\n",
       "\t<tr><td>1                     </td><td>Laki-laki             </td><td>Customer Service      </td><td>34                    </td><td>Jakarta Pusat         </td><td>Jakarta Pusat         </td><td>Jakarta Pusat         </td><td>Kota Bekasi           </td><td>Kota Bekasi           </td><td>Kota Medan            </td><td>...                   </td><td>Kota Padang           </td><td>Kota Padang           </td><td>Kota Padang           </td><td>Kota Padang           </td><td>Kota Padang           </td><td>Kota Bekasi           </td><td>Kota Bekasi           </td><td>Jakarta Pusat         </td><td>Jakarta Pusat         </td><td>Jakarta Pusat         </td></tr>\n",
       "\t<tr><td>2                     </td><td>Laki-laki             </td><td>Data Engineer         </td><td>26                    </td><td>Kabupaten Bogor       </td><td>Kabupaten Bogor       </td><td>Jakarta Selatan       </td><td>Kabupaten Bogor       </td><td>Kabupaten Bogor       </td><td>Kabupaten Bogor       </td><td>...                   </td><td>Kota Manado           </td><td>Kota Manado           </td><td>Kota Manado           </td><td>Kota Manado           </td><td>Jakarta Timur         </td><td>Kabupaten Bogor       </td><td>Kabupaten Bogor       </td><td>Jakarta Selatan       </td><td>Kabupaten Bogor       </td><td>Kabupaten Bogor       </td></tr>\n",
       "\t<tr><td>3                     </td><td>Laki-laki             </td><td>Software Engineer     </td><td>28                    </td><td>Jakarta Pusat         </td><td>Jakarta Timur         </td><td>Kota Bekasi           </td><td>Kabupaten Bekasi      </td><td>Jakarta Timur         </td><td>Jakarta Timur         </td><td>...                   </td><td>Kota Padang           </td><td>Kota Padang           </td><td>Kota Depok            </td><td>Jakarta Timur         </td><td>Kabupaten Bekasi      </td><td>Jakarta Timur         </td><td>Kabupaten Bekasi      </td><td>Kota Bekasi           </td><td>Jakarta Timur         </td><td>Jakarta Pusat         </td></tr>\n",
       "\t<tr><td>4                     </td><td>Perempuan             </td><td>Business Intelligence </td><td>21                    </td><td>Kota Tangerang        </td><td>Kota Tangerang        </td><td>Jakarta Utara         </td><td>Kota Tangerang        </td><td>Kota Tangerang        </td><td>Kota Tangerang        </td><td>...                   </td><td>Kota Bandar Lampung   </td><td>Kota Bandar Lampung   </td><td>Kota Bandar Lampung   </td><td>Kota Tangerang Selatan</td><td>Kota Tangerang        </td><td>Kota Tangerang        </td><td>Kota Tangerang        </td><td>Jakarta Utara         </td><td>Kota Tangerang        </td><td>Kota Tangerang        </td></tr>\n",
       "\t<tr><td>5                     </td><td>Perempuan             </td><td>Software Engineer     </td><td>21                    </td><td>Kota Bogor            </td><td>Jakarta Barat         </td><td>Jakarta Barat         </td><td>Jakarta Barat         </td><td>Jakarta Barat         </td><td>Jakarta Barat         </td><td>...                   </td><td>Kota Yogyakarta       </td><td>Kota Yogyakarta       </td><td>Kota Yogyakarta       </td><td>Kota Bandung          </td><td>Jakarta Barat         </td><td>Jakarta Barat         </td><td>Jakarta Barat         </td><td>Jakarta Barat         </td><td>Jakarta Barat         </td><td>Kota Bogor            </td></tr>\n",
       "\t<tr><td>6                     </td><td>Laki-laki             </td><td>Business Intelligence </td><td>28                    </td><td>Kota Bogor            </td><td>Jakarta Utara         </td><td>Kota Depok            </td><td>Kota Depok            </td><td>Kota Depok            </td><td>Kota Depok            </td><td>...                   </td><td>Kabupaten Sleman      </td><td>Kabupaten Sleman      </td><td>Kabupaten Sleman      </td><td>Kabupaten Wonogiri    </td><td>Kabupaten Wonogiri    </td><td>Kota Depok            </td><td>Kota Depok            </td><td>Kota Depok            </td><td>Jakarta Utara         </td><td>Kota Bogor            </td></tr>\n",
       "</tbody>\n",
       "</table>\n"
      ],
      "text/latex": [
       "\\begin{tabular}{r|llllllllllllllllllllllllllllll}\n",
       " id & jenis\\_kelamin & divisi & umur & lokasi\\_dominan & lokasi\\_dominan.1 & lokasi\\_dominan.2 & lokasi\\_dominan.3 & lokasi\\_dominan.4 & lokasi\\_dominan.5 & ... & lokasi\\_dominan & lokasi\\_dominan.1 & lokasi\\_dominan.2 & lokasi\\_dominan.3 & lokasi\\_dominan.4 & lokasi\\_dominan.5 & lokasi\\_dominan.6 & lokasi\\_dominan.7 & lokasi\\_dominan.8 & lokasi\\_dominan.9\\\\\n",
       "\\hline\n",
       "\t 1                      & Laki-laki              & Customer Service       & 34                     & Jakarta Pusat          & Jakarta Pusat          & Jakarta Pusat          & Kota Bekasi            & Kota Bekasi            & Kota Medan             & ...                    & Kota Padang            & Kota Padang            & Kota Padang            & Kota Padang            & Kota Padang            & Kota Bekasi            & Kota Bekasi            & Jakarta Pusat          & Jakarta Pusat          & Jakarta Pusat         \\\\\n",
       "\t 2                      & Laki-laki              & Data Engineer          & 26                     & Kabupaten Bogor        & Kabupaten Bogor        & Jakarta Selatan        & Kabupaten Bogor        & Kabupaten Bogor        & Kabupaten Bogor        & ...                    & Kota Manado            & Kota Manado            & Kota Manado            & Kota Manado            & Jakarta Timur          & Kabupaten Bogor        & Kabupaten Bogor        & Jakarta Selatan        & Kabupaten Bogor        & Kabupaten Bogor       \\\\\n",
       "\t 3                      & Laki-laki              & Software Engineer      & 28                     & Jakarta Pusat          & Jakarta Timur          & Kota Bekasi            & Kabupaten Bekasi       & Jakarta Timur          & Jakarta Timur          & ...                    & Kota Padang            & Kota Padang            & Kota Depok             & Jakarta Timur          & Kabupaten Bekasi       & Jakarta Timur          & Kabupaten Bekasi       & Kota Bekasi            & Jakarta Timur          & Jakarta Pusat         \\\\\n",
       "\t 4                      & Perempuan              & Business Intelligence  & 21                     & Kota Tangerang         & Kota Tangerang         & Jakarta Utara          & Kota Tangerang         & Kota Tangerang         & Kota Tangerang         & ...                    & Kota Bandar Lampung    & Kota Bandar Lampung    & Kota Bandar Lampung    & Kota Tangerang Selatan & Kota Tangerang         & Kota Tangerang         & Kota Tangerang         & Jakarta Utara          & Kota Tangerang         & Kota Tangerang        \\\\\n",
       "\t 5                      & Perempuan              & Software Engineer      & 21                     & Kota Bogor             & Jakarta Barat          & Jakarta Barat          & Jakarta Barat          & Jakarta Barat          & Jakarta Barat          & ...                    & Kota Yogyakarta        & Kota Yogyakarta        & Kota Yogyakarta        & Kota Bandung           & Jakarta Barat          & Jakarta Barat          & Jakarta Barat          & Jakarta Barat          & Jakarta Barat          & Kota Bogor            \\\\\n",
       "\t 6                      & Laki-laki              & Business Intelligence  & 28                     & Kota Bogor             & Jakarta Utara          & Kota Depok             & Kota Depok             & Kota Depok             & Kota Depok             & ...                    & Kabupaten Sleman       & Kabupaten Sleman       & Kabupaten Sleman       & Kabupaten Wonogiri     & Kabupaten Wonogiri     & Kota Depok             & Kota Depok             & Kota Depok             & Jakarta Utara          & Kota Bogor            \\\\\n",
       "\\end{tabular}\n"
      ],
      "text/markdown": [
       "\n",
       "id | jenis_kelamin | divisi | umur | lokasi_dominan | lokasi_dominan.1 | lokasi_dominan.2 | lokasi_dominan.3 | lokasi_dominan.4 | lokasi_dominan.5 | ... | lokasi_dominan | lokasi_dominan.1 | lokasi_dominan.2 | lokasi_dominan.3 | lokasi_dominan.4 | lokasi_dominan.5 | lokasi_dominan.6 | lokasi_dominan.7 | lokasi_dominan.8 | lokasi_dominan.9 | \n",
       "|---|---|---|---|---|---|\n",
       "| 1                      | Laki-laki              | Customer Service       | 34                     | Jakarta Pusat          | Jakarta Pusat          | Jakarta Pusat          | Kota Bekasi            | Kota Bekasi            | Kota Medan             | ...                    | Kota Padang            | Kota Padang            | Kota Padang            | Kota Padang            | Kota Padang            | Kota Bekasi            | Kota Bekasi            | Jakarta Pusat          | Jakarta Pusat          | Jakarta Pusat          | \n",
       "| 2                      | Laki-laki              | Data Engineer          | 26                     | Kabupaten Bogor        | Kabupaten Bogor        | Jakarta Selatan        | Kabupaten Bogor        | Kabupaten Bogor        | Kabupaten Bogor        | ...                    | Kota Manado            | Kota Manado            | Kota Manado            | Kota Manado            | Jakarta Timur          | Kabupaten Bogor        | Kabupaten Bogor        | Jakarta Selatan        | Kabupaten Bogor        | Kabupaten Bogor        | \n",
       "| 3                      | Laki-laki              | Software Engineer      | 28                     | Jakarta Pusat          | Jakarta Timur          | Kota Bekasi            | Kabupaten Bekasi       | Jakarta Timur          | Jakarta Timur          | ...                    | Kota Padang            | Kota Padang            | Kota Depok             | Jakarta Timur          | Kabupaten Bekasi       | Jakarta Timur          | Kabupaten Bekasi       | Kota Bekasi            | Jakarta Timur          | Jakarta Pusat          | \n",
       "| 4                      | Perempuan              | Business Intelligence  | 21                     | Kota Tangerang         | Kota Tangerang         | Jakarta Utara          | Kota Tangerang         | Kota Tangerang         | Kota Tangerang         | ...                    | Kota Bandar Lampung    | Kota Bandar Lampung    | Kota Bandar Lampung    | Kota Tangerang Selatan | Kota Tangerang         | Kota Tangerang         | Kota Tangerang         | Jakarta Utara          | Kota Tangerang         | Kota Tangerang         | \n",
       "| 5                      | Perempuan              | Software Engineer      | 21                     | Kota Bogor             | Jakarta Barat          | Jakarta Barat          | Jakarta Barat          | Jakarta Barat          | Jakarta Barat          | ...                    | Kota Yogyakarta        | Kota Yogyakarta        | Kota Yogyakarta        | Kota Bandung           | Jakarta Barat          | Jakarta Barat          | Jakarta Barat          | Jakarta Barat          | Jakarta Barat          | Kota Bogor             | \n",
       "| 6                      | Laki-laki              | Business Intelligence  | 28                     | Kota Bogor             | Jakarta Utara          | Kota Depok             | Kota Depok             | Kota Depok             | Kota Depok             | ...                    | Kabupaten Sleman       | Kabupaten Sleman       | Kabupaten Sleman       | Kabupaten Wonogiri     | Kabupaten Wonogiri     | Kota Depok             | Kota Depok             | Kota Depok             | Jakarta Utara          | Kota Bogor             | \n",
       "\n",
       "\n"
      ],
      "text/plain": [
       "  id jenis_kelamin divisi                umur lokasi_dominan  lokasi_dominan.1\n",
       "1 1  Laki-laki     Customer Service      34   Jakarta Pusat   Jakarta Pusat   \n",
       "2 2  Laki-laki     Data Engineer         26   Kabupaten Bogor Kabupaten Bogor \n",
       "3 3  Laki-laki     Software Engineer     28   Jakarta Pusat   Jakarta Timur   \n",
       "4 4  Perempuan     Business Intelligence 21   Kota Tangerang  Kota Tangerang  \n",
       "5 5  Perempuan     Software Engineer     21   Kota Bogor      Jakarta Barat   \n",
       "6 6  Laki-laki     Business Intelligence 28   Kota Bogor      Jakarta Utara   \n",
       "  lokasi_dominan.2 lokasi_dominan.3 lokasi_dominan.4 lokasi_dominan.5 ...\n",
       "1 Jakarta Pusat    Kota Bekasi      Kota Bekasi      Kota Medan       ...\n",
       "2 Jakarta Selatan  Kabupaten Bogor  Kabupaten Bogor  Kabupaten Bogor  ...\n",
       "3 Kota Bekasi      Kabupaten Bekasi Jakarta Timur    Jakarta Timur    ...\n",
       "4 Jakarta Utara    Kota Tangerang   Kota Tangerang   Kota Tangerang   ...\n",
       "5 Jakarta Barat    Jakarta Barat    Jakarta Barat    Jakarta Barat    ...\n",
       "6 Kota Depok       Kota Depok       Kota Depok       Kota Depok       ...\n",
       "  lokasi_dominan      lokasi_dominan.1    lokasi_dominan.2   \n",
       "1 Kota Padang         Kota Padang         Kota Padang        \n",
       "2 Kota Manado         Kota Manado         Kota Manado        \n",
       "3 Kota Padang         Kota Padang         Kota Depok         \n",
       "4 Kota Bandar Lampung Kota Bandar Lampung Kota Bandar Lampung\n",
       "5 Kota Yogyakarta     Kota Yogyakarta     Kota Yogyakarta    \n",
       "6 Kabupaten Sleman    Kabupaten Sleman    Kabupaten Sleman   \n",
       "  lokasi_dominan.3       lokasi_dominan.4   lokasi_dominan.5 lokasi_dominan.6\n",
       "1 Kota Padang            Kota Padang        Kota Bekasi      Kota Bekasi     \n",
       "2 Kota Manado            Jakarta Timur      Kabupaten Bogor  Kabupaten Bogor \n",
       "3 Jakarta Timur          Kabupaten Bekasi   Jakarta Timur    Kabupaten Bekasi\n",
       "4 Kota Tangerang Selatan Kota Tangerang     Kota Tangerang   Kota Tangerang  \n",
       "5 Kota Bandung           Jakarta Barat      Jakarta Barat    Jakarta Barat   \n",
       "6 Kabupaten Wonogiri     Kabupaten Wonogiri Kota Depok       Kota Depok      \n",
       "  lokasi_dominan.7 lokasi_dominan.8 lokasi_dominan.9\n",
       "1 Jakarta Pusat    Jakarta Pusat    Jakarta Pusat   \n",
       "2 Jakarta Selatan  Kabupaten Bogor  Kabupaten Bogor \n",
       "3 Kota Bekasi      Jakarta Timur    Jakarta Pusat   \n",
       "4 Jakarta Utara    Kota Tangerang   Kota Tangerang  \n",
       "5 Jakarta Barat    Jakarta Barat    Kota Bogor      \n",
       "6 Kota Depok       Jakarta Utara    Kota Bogor      "
      ]
     },
     "metadata": {},
     "output_type": "display_data"
    }
   ],
   "source": [
    "head(data.final)"
   ]
  },
  {
   "cell_type": "code",
   "execution_count": 68,
   "metadata": {
    "collapsed": true
   },
   "outputs": [],
   "source": [
    "# Column Names for new Dataset\n",
    "date.num = c(21:31,1:15)\n",
    "date.num = paste(c(rep('May',11),\n",
    "                   rep('June',15)),\n",
    "                 date.num,\n",
    "                 sep = '_')"
   ]
  },
  {
   "cell_type": "code",
   "execution_count": 69,
   "metadata": {
    "scrolled": true
   },
   "outputs": [
    {
     "data": {
      "text/html": [
       "<ol class=list-inline>\n",
       "\t<li>'id'</li>\n",
       "\t<li>'jenis_kelamin'</li>\n",
       "\t<li>'divisi'</li>\n",
       "\t<li>'umur'</li>\n",
       "\t<li>'May_21'</li>\n",
       "\t<li>'May_22'</li>\n",
       "\t<li>'May_23'</li>\n",
       "\t<li>'May_24'</li>\n",
       "\t<li>'May_25'</li>\n",
       "\t<li>'May_26'</li>\n",
       "\t<li>'May_27'</li>\n",
       "\t<li>'May_28'</li>\n",
       "\t<li>'May_29'</li>\n",
       "\t<li>'May_30'</li>\n",
       "\t<li>'May_31'</li>\n",
       "\t<li>'June_1'</li>\n",
       "\t<li>'June_2'</li>\n",
       "\t<li>'June_3'</li>\n",
       "\t<li>'June_4'</li>\n",
       "\t<li>'June_5'</li>\n",
       "\t<li>'June_6'</li>\n",
       "\t<li>'June_7'</li>\n",
       "\t<li>'June_8'</li>\n",
       "\t<li>'June_9'</li>\n",
       "\t<li>'June_10'</li>\n",
       "\t<li>'June_11'</li>\n",
       "\t<li>'June_12'</li>\n",
       "\t<li>'June_13'</li>\n",
       "\t<li>'June_14'</li>\n",
       "\t<li>'June_15'</li>\n",
       "</ol>\n"
      ],
      "text/latex": [
       "\\begin{enumerate*}\n",
       "\\item 'id'\n",
       "\\item 'jenis\\_kelamin'\n",
       "\\item 'divisi'\n",
       "\\item 'umur'\n",
       "\\item 'May\\_21'\n",
       "\\item 'May\\_22'\n",
       "\\item 'May\\_23'\n",
       "\\item 'May\\_24'\n",
       "\\item 'May\\_25'\n",
       "\\item 'May\\_26'\n",
       "\\item 'May\\_27'\n",
       "\\item 'May\\_28'\n",
       "\\item 'May\\_29'\n",
       "\\item 'May\\_30'\n",
       "\\item 'May\\_31'\n",
       "\\item 'June\\_1'\n",
       "\\item 'June\\_2'\n",
       "\\item 'June\\_3'\n",
       "\\item 'June\\_4'\n",
       "\\item 'June\\_5'\n",
       "\\item 'June\\_6'\n",
       "\\item 'June\\_7'\n",
       "\\item 'June\\_8'\n",
       "\\item 'June\\_9'\n",
       "\\item 'June\\_10'\n",
       "\\item 'June\\_11'\n",
       "\\item 'June\\_12'\n",
       "\\item 'June\\_13'\n",
       "\\item 'June\\_14'\n",
       "\\item 'June\\_15'\n",
       "\\end{enumerate*}\n"
      ],
      "text/markdown": [
       "1. 'id'\n",
       "2. 'jenis_kelamin'\n",
       "3. 'divisi'\n",
       "4. 'umur'\n",
       "5. 'May_21'\n",
       "6. 'May_22'\n",
       "7. 'May_23'\n",
       "8. 'May_24'\n",
       "9. 'May_25'\n",
       "10. 'May_26'\n",
       "11. 'May_27'\n",
       "12. 'May_28'\n",
       "13. 'May_29'\n",
       "14. 'May_30'\n",
       "15. 'May_31'\n",
       "16. 'June_1'\n",
       "17. 'June_2'\n",
       "18. 'June_3'\n",
       "19. 'June_4'\n",
       "20. 'June_5'\n",
       "21. 'June_6'\n",
       "22. 'June_7'\n",
       "23. 'June_8'\n",
       "24. 'June_9'\n",
       "25. 'June_10'\n",
       "26. 'June_11'\n",
       "27. 'June_12'\n",
       "28. 'June_13'\n",
       "29. 'June_14'\n",
       "30. 'June_15'\n",
       "\n",
       "\n"
      ],
      "text/plain": [
       " [1] \"id\"            \"jenis_kelamin\" \"divisi\"        \"umur\"         \n",
       " [5] \"May_21\"        \"May_22\"        \"May_23\"        \"May_24\"       \n",
       " [9] \"May_25\"        \"May_26\"        \"May_27\"        \"May_28\"       \n",
       "[13] \"May_29\"        \"May_30\"        \"May_31\"        \"June_1\"       \n",
       "[17] \"June_2\"        \"June_3\"        \"June_4\"        \"June_5\"       \n",
       "[21] \"June_6\"        \"June_7\"        \"June_8\"        \"June_9\"       \n",
       "[25] \"June_10\"       \"June_11\"       \"June_12\"       \"June_13\"      \n",
       "[29] \"June_14\"       \"June_15\"      "
      ]
     },
     "metadata": {},
     "output_type": "display_data"
    }
   ],
   "source": [
    "colnames(data.final)[5:dim(data.final)[2]] = date.num\n",
    "colnames(data.final)"
   ]
  },
  {
   "cell_type": "code",
   "execution_count": 70,
   "metadata": {},
   "outputs": [
    {
     "data": {
      "text/html": [
       "<table>\n",
       "<thead><tr><th scope=col>id</th><th scope=col>jenis_kelamin</th><th scope=col>divisi</th><th scope=col>umur</th><th scope=col>May_21</th><th scope=col>May_22</th><th scope=col>May_23</th><th scope=col>May_24</th><th scope=col>May_25</th><th scope=col>May_26</th><th scope=col>...</th><th scope=col>June_6</th><th scope=col>June_7</th><th scope=col>June_8</th><th scope=col>June_9</th><th scope=col>June_10</th><th scope=col>June_11</th><th scope=col>June_12</th><th scope=col>June_13</th><th scope=col>June_14</th><th scope=col>June_15</th></tr></thead>\n",
       "<tbody>\n",
       "\t<tr><td>1                     </td><td>Laki-laki             </td><td>Customer Service      </td><td>34                    </td><td>Jakarta Pusat         </td><td>Jakarta Pusat         </td><td>Jakarta Pusat         </td><td>Kota Bekasi           </td><td>Kota Bekasi           </td><td>Kota Medan            </td><td>...                   </td><td>Kota Padang           </td><td>Kota Padang           </td><td>Kota Padang           </td><td>Kota Padang           </td><td>Kota Padang           </td><td>Kota Bekasi           </td><td>Kota Bekasi           </td><td>Jakarta Pusat         </td><td>Jakarta Pusat         </td><td>Jakarta Pusat         </td></tr>\n",
       "\t<tr><td>2                     </td><td>Laki-laki             </td><td>Data Engineer         </td><td>26                    </td><td>Kabupaten Bogor       </td><td>Kabupaten Bogor       </td><td>Jakarta Selatan       </td><td>Kabupaten Bogor       </td><td>Kabupaten Bogor       </td><td>Kabupaten Bogor       </td><td>...                   </td><td>Kota Manado           </td><td>Kota Manado           </td><td>Kota Manado           </td><td>Kota Manado           </td><td>Jakarta Timur         </td><td>Kabupaten Bogor       </td><td>Kabupaten Bogor       </td><td>Jakarta Selatan       </td><td>Kabupaten Bogor       </td><td>Kabupaten Bogor       </td></tr>\n",
       "\t<tr><td>3                     </td><td>Laki-laki             </td><td>Software Engineer     </td><td>28                    </td><td>Jakarta Pusat         </td><td>Jakarta Timur         </td><td>Kota Bekasi           </td><td>Kabupaten Bekasi      </td><td>Jakarta Timur         </td><td>Jakarta Timur         </td><td>...                   </td><td>Kota Padang           </td><td>Kota Padang           </td><td>Kota Depok            </td><td>Jakarta Timur         </td><td>Kabupaten Bekasi      </td><td>Jakarta Timur         </td><td>Kabupaten Bekasi      </td><td>Kota Bekasi           </td><td>Jakarta Timur         </td><td>Jakarta Pusat         </td></tr>\n",
       "\t<tr><td>4                     </td><td>Perempuan             </td><td>Business Intelligence </td><td>21                    </td><td>Kota Tangerang        </td><td>Kota Tangerang        </td><td>Jakarta Utara         </td><td>Kota Tangerang        </td><td>Kota Tangerang        </td><td>Kota Tangerang        </td><td>...                   </td><td>Kota Bandar Lampung   </td><td>Kota Bandar Lampung   </td><td>Kota Bandar Lampung   </td><td>Kota Tangerang Selatan</td><td>Kota Tangerang        </td><td>Kota Tangerang        </td><td>Kota Tangerang        </td><td>Jakarta Utara         </td><td>Kota Tangerang        </td><td>Kota Tangerang        </td></tr>\n",
       "\t<tr><td>5                     </td><td>Perempuan             </td><td>Software Engineer     </td><td>21                    </td><td>Kota Bogor            </td><td>Jakarta Barat         </td><td>Jakarta Barat         </td><td>Jakarta Barat         </td><td>Jakarta Barat         </td><td>Jakarta Barat         </td><td>...                   </td><td>Kota Yogyakarta       </td><td>Kota Yogyakarta       </td><td>Kota Yogyakarta       </td><td>Kota Bandung          </td><td>Jakarta Barat         </td><td>Jakarta Barat         </td><td>Jakarta Barat         </td><td>Jakarta Barat         </td><td>Jakarta Barat         </td><td>Kota Bogor            </td></tr>\n",
       "\t<tr><td>6                     </td><td>Laki-laki             </td><td>Business Intelligence </td><td>28                    </td><td>Kota Bogor            </td><td>Jakarta Utara         </td><td>Kota Depok            </td><td>Kota Depok            </td><td>Kota Depok            </td><td>Kota Depok            </td><td>...                   </td><td>Kabupaten Sleman      </td><td>Kabupaten Sleman      </td><td>Kabupaten Sleman      </td><td>Kabupaten Wonogiri    </td><td>Kabupaten Wonogiri    </td><td>Kota Depok            </td><td>Kota Depok            </td><td>Kota Depok            </td><td>Jakarta Utara         </td><td>Kota Bogor            </td></tr>\n",
       "</tbody>\n",
       "</table>\n"
      ],
      "text/latex": [
       "\\begin{tabular}{r|llllllllllllllllllllllllllllll}\n",
       " id & jenis\\_kelamin & divisi & umur & May\\_21 & May\\_22 & May\\_23 & May\\_24 & May\\_25 & May\\_26 & ... & June\\_6 & June\\_7 & June\\_8 & June\\_9 & June\\_10 & June\\_11 & June\\_12 & June\\_13 & June\\_14 & June\\_15\\\\\n",
       "\\hline\n",
       "\t 1                      & Laki-laki              & Customer Service       & 34                     & Jakarta Pusat          & Jakarta Pusat          & Jakarta Pusat          & Kota Bekasi            & Kota Bekasi            & Kota Medan             & ...                    & Kota Padang            & Kota Padang            & Kota Padang            & Kota Padang            & Kota Padang            & Kota Bekasi            & Kota Bekasi            & Jakarta Pusat          & Jakarta Pusat          & Jakarta Pusat         \\\\\n",
       "\t 2                      & Laki-laki              & Data Engineer          & 26                     & Kabupaten Bogor        & Kabupaten Bogor        & Jakarta Selatan        & Kabupaten Bogor        & Kabupaten Bogor        & Kabupaten Bogor        & ...                    & Kota Manado            & Kota Manado            & Kota Manado            & Kota Manado            & Jakarta Timur          & Kabupaten Bogor        & Kabupaten Bogor        & Jakarta Selatan        & Kabupaten Bogor        & Kabupaten Bogor       \\\\\n",
       "\t 3                      & Laki-laki              & Software Engineer      & 28                     & Jakarta Pusat          & Jakarta Timur          & Kota Bekasi            & Kabupaten Bekasi       & Jakarta Timur          & Jakarta Timur          & ...                    & Kota Padang            & Kota Padang            & Kota Depok             & Jakarta Timur          & Kabupaten Bekasi       & Jakarta Timur          & Kabupaten Bekasi       & Kota Bekasi            & Jakarta Timur          & Jakarta Pusat         \\\\\n",
       "\t 4                      & Perempuan              & Business Intelligence  & 21                     & Kota Tangerang         & Kota Tangerang         & Jakarta Utara          & Kota Tangerang         & Kota Tangerang         & Kota Tangerang         & ...                    & Kota Bandar Lampung    & Kota Bandar Lampung    & Kota Bandar Lampung    & Kota Tangerang Selatan & Kota Tangerang         & Kota Tangerang         & Kota Tangerang         & Jakarta Utara          & Kota Tangerang         & Kota Tangerang        \\\\\n",
       "\t 5                      & Perempuan              & Software Engineer      & 21                     & Kota Bogor             & Jakarta Barat          & Jakarta Barat          & Jakarta Barat          & Jakarta Barat          & Jakarta Barat          & ...                    & Kota Yogyakarta        & Kota Yogyakarta        & Kota Yogyakarta        & Kota Bandung           & Jakarta Barat          & Jakarta Barat          & Jakarta Barat          & Jakarta Barat          & Jakarta Barat          & Kota Bogor            \\\\\n",
       "\t 6                      & Laki-laki              & Business Intelligence  & 28                     & Kota Bogor             & Jakarta Utara          & Kota Depok             & Kota Depok             & Kota Depok             & Kota Depok             & ...                    & Kabupaten Sleman       & Kabupaten Sleman       & Kabupaten Sleman       & Kabupaten Wonogiri     & Kabupaten Wonogiri     & Kota Depok             & Kota Depok             & Kota Depok             & Jakarta Utara          & Kota Bogor            \\\\\n",
       "\\end{tabular}\n"
      ],
      "text/markdown": [
       "\n",
       "id | jenis_kelamin | divisi | umur | May_21 | May_22 | May_23 | May_24 | May_25 | May_26 | ... | June_6 | June_7 | June_8 | June_9 | June_10 | June_11 | June_12 | June_13 | June_14 | June_15 | \n",
       "|---|---|---|---|---|---|\n",
       "| 1                      | Laki-laki              | Customer Service       | 34                     | Jakarta Pusat          | Jakarta Pusat          | Jakarta Pusat          | Kota Bekasi            | Kota Bekasi            | Kota Medan             | ...                    | Kota Padang            | Kota Padang            | Kota Padang            | Kota Padang            | Kota Padang            | Kota Bekasi            | Kota Bekasi            | Jakarta Pusat          | Jakarta Pusat          | Jakarta Pusat          | \n",
       "| 2                      | Laki-laki              | Data Engineer          | 26                     | Kabupaten Bogor        | Kabupaten Bogor        | Jakarta Selatan        | Kabupaten Bogor        | Kabupaten Bogor        | Kabupaten Bogor        | ...                    | Kota Manado            | Kota Manado            | Kota Manado            | Kota Manado            | Jakarta Timur          | Kabupaten Bogor        | Kabupaten Bogor        | Jakarta Selatan        | Kabupaten Bogor        | Kabupaten Bogor        | \n",
       "| 3                      | Laki-laki              | Software Engineer      | 28                     | Jakarta Pusat          | Jakarta Timur          | Kota Bekasi            | Kabupaten Bekasi       | Jakarta Timur          | Jakarta Timur          | ...                    | Kota Padang            | Kota Padang            | Kota Depok             | Jakarta Timur          | Kabupaten Bekasi       | Jakarta Timur          | Kabupaten Bekasi       | Kota Bekasi            | Jakarta Timur          | Jakarta Pusat          | \n",
       "| 4                      | Perempuan              | Business Intelligence  | 21                     | Kota Tangerang         | Kota Tangerang         | Jakarta Utara          | Kota Tangerang         | Kota Tangerang         | Kota Tangerang         | ...                    | Kota Bandar Lampung    | Kota Bandar Lampung    | Kota Bandar Lampung    | Kota Tangerang Selatan | Kota Tangerang         | Kota Tangerang         | Kota Tangerang         | Jakarta Utara          | Kota Tangerang         | Kota Tangerang         | \n",
       "| 5                      | Perempuan              | Software Engineer      | 21                     | Kota Bogor             | Jakarta Barat          | Jakarta Barat          | Jakarta Barat          | Jakarta Barat          | Jakarta Barat          | ...                    | Kota Yogyakarta        | Kota Yogyakarta        | Kota Yogyakarta        | Kota Bandung           | Jakarta Barat          | Jakarta Barat          | Jakarta Barat          | Jakarta Barat          | Jakarta Barat          | Kota Bogor             | \n",
       "| 6                      | Laki-laki              | Business Intelligence  | 28                     | Kota Bogor             | Jakarta Utara          | Kota Depok             | Kota Depok             | Kota Depok             | Kota Depok             | ...                    | Kabupaten Sleman       | Kabupaten Sleman       | Kabupaten Sleman       | Kabupaten Wonogiri     | Kabupaten Wonogiri     | Kota Depok             | Kota Depok             | Kota Depok             | Jakarta Utara          | Kota Bogor             | \n",
       "\n",
       "\n"
      ],
      "text/plain": [
       "  id jenis_kelamin divisi                umur May_21          May_22         \n",
       "1 1  Laki-laki     Customer Service      34   Jakarta Pusat   Jakarta Pusat  \n",
       "2 2  Laki-laki     Data Engineer         26   Kabupaten Bogor Kabupaten Bogor\n",
       "3 3  Laki-laki     Software Engineer     28   Jakarta Pusat   Jakarta Timur  \n",
       "4 4  Perempuan     Business Intelligence 21   Kota Tangerang  Kota Tangerang \n",
       "5 5  Perempuan     Software Engineer     21   Kota Bogor      Jakarta Barat  \n",
       "6 6  Laki-laki     Business Intelligence 28   Kota Bogor      Jakarta Utara  \n",
       "  May_23          May_24           May_25          May_26          ...\n",
       "1 Jakarta Pusat   Kota Bekasi      Kota Bekasi     Kota Medan      ...\n",
       "2 Jakarta Selatan Kabupaten Bogor  Kabupaten Bogor Kabupaten Bogor ...\n",
       "3 Kota Bekasi     Kabupaten Bekasi Jakarta Timur   Jakarta Timur   ...\n",
       "4 Jakarta Utara   Kota Tangerang   Kota Tangerang  Kota Tangerang  ...\n",
       "5 Jakarta Barat   Jakarta Barat    Jakarta Barat   Jakarta Barat   ...\n",
       "6 Kota Depok      Kota Depok       Kota Depok      Kota Depok      ...\n",
       "  June_6              June_7              June_8             \n",
       "1 Kota Padang         Kota Padang         Kota Padang        \n",
       "2 Kota Manado         Kota Manado         Kota Manado        \n",
       "3 Kota Padang         Kota Padang         Kota Depok         \n",
       "4 Kota Bandar Lampung Kota Bandar Lampung Kota Bandar Lampung\n",
       "5 Kota Yogyakarta     Kota Yogyakarta     Kota Yogyakarta    \n",
       "6 Kabupaten Sleman    Kabupaten Sleman    Kabupaten Sleman   \n",
       "  June_9                 June_10            June_11         June_12         \n",
       "1 Kota Padang            Kota Padang        Kota Bekasi     Kota Bekasi     \n",
       "2 Kota Manado            Jakarta Timur      Kabupaten Bogor Kabupaten Bogor \n",
       "3 Jakarta Timur          Kabupaten Bekasi   Jakarta Timur   Kabupaten Bekasi\n",
       "4 Kota Tangerang Selatan Kota Tangerang     Kota Tangerang  Kota Tangerang  \n",
       "5 Kota Bandung           Jakarta Barat      Jakarta Barat   Jakarta Barat   \n",
       "6 Kabupaten Wonogiri     Kabupaten Wonogiri Kota Depok      Kota Depok      \n",
       "  June_13         June_14         June_15        \n",
       "1 Jakarta Pusat   Jakarta Pusat   Jakarta Pusat  \n",
       "2 Jakarta Selatan Kabupaten Bogor Kabupaten Bogor\n",
       "3 Kota Bekasi     Jakarta Timur   Jakarta Pusat  \n",
       "4 Jakarta Utara   Kota Tangerang  Kota Tangerang \n",
       "5 Jakarta Barat   Jakarta Barat   Kota Bogor     \n",
       "6 Kota Depok      Jakarta Utara   Kota Bogor     "
      ]
     },
     "metadata": {},
     "output_type": "display_data"
    }
   ],
   "source": [
    "head(data.final)"
   ]
  },
  {
   "cell_type": "code",
   "execution_count": 71,
   "metadata": {},
   "outputs": [
    {
     "data": {
      "text/html": [
       "<ol class=list-inline>\n",
       "\t<li>Jakarta Pusat</li>\n",
       "\t<li>Kabupaten Bogor</li>\n",
       "\t<li>Kota Tangerang</li>\n",
       "\t<li>Kota Bogor</li>\n",
       "\t<li>Kota Depok</li>\n",
       "\t<li>Jakarta Timur</li>\n",
       "\t<li>Kota Bekasi</li>\n",
       "\t<li>Jakarta Selatan</li>\n",
       "\t<li>Jakarta Utara</li>\n",
       "\t<li>Jakarta Barat</li>\n",
       "\t<li>Kabupaten Tangerang</li>\n",
       "\t<li>Kabupaten Bekasi</li>\n",
       "\t<li>Kota Tangerang Selatan</li>\n",
       "\t<li>Kota Yogyakarta</li>\n",
       "\t<li>Kabupaten Bantul</li>\n",
       "\t<li>Kabupaten Wonogiri</li>\n",
       "\t<li>Kota Medan</li>\n",
       "\t<li>Kota Manado</li>\n",
       "\t<li>Kota Bandung</li>\n",
       "\t<li>Kabupaten Tasikmalaya</li>\n",
       "\t<li>Kota Padang</li>\n",
       "\t<li>Kabupaten Sleman</li>\n",
       "\t<li>Kota Bandar Lampung</li>\n",
       "\t<li>Kota Semarang</li>\n",
       "\t<li>Kabupaten Lampung Selatan</li>\n",
       "\t<li>Kota Surabaya</li>\n",
       "\t<li>Kabupaten Kebumen</li>\n",
       "\t<li>Kota Banda Aceh</li>\n",
       "</ol>\n",
       "\n",
       "<details>\n",
       "\t<summary style=display:list-item;cursor:pointer>\n",
       "\t\t<strong>Levels</strong>:\n",
       "\t</summary>\n",
       "\t<ol class=list-inline>\n",
       "\t\t<li>'Jakarta Barat'</li>\n",
       "\t\t<li>'Jakarta Pusat'</li>\n",
       "\t\t<li>'Jakarta Selatan'</li>\n",
       "\t\t<li>'Jakarta Timur'</li>\n",
       "\t\t<li>'Jakarta Utara'</li>\n",
       "\t\t<li>'Kabupaten Bantul'</li>\n",
       "\t\t<li>'Kabupaten Bekasi'</li>\n",
       "\t\t<li>'Kabupaten Bogor'</li>\n",
       "\t\t<li>'Kabupaten Kebumen'</li>\n",
       "\t\t<li>'Kabupaten Lampung Selatan'</li>\n",
       "\t\t<li>'Kabupaten Sleman'</li>\n",
       "\t\t<li>'Kabupaten Tangerang'</li>\n",
       "\t\t<li>'Kabupaten Tasikmalaya'</li>\n",
       "\t\t<li>'Kabupaten Wonogiri'</li>\n",
       "\t\t<li>'Kota Banda Aceh'</li>\n",
       "\t\t<li>'Kota Bandar Lampung'</li>\n",
       "\t\t<li>'Kota Bandung'</li>\n",
       "\t\t<li>'Kota Bekasi'</li>\n",
       "\t\t<li>'Kota Bogor'</li>\n",
       "\t\t<li>'Kota Depok'</li>\n",
       "\t\t<li>'Kota Manado'</li>\n",
       "\t\t<li>'Kota Medan'</li>\n",
       "\t\t<li>'Kota Padang'</li>\n",
       "\t\t<li>'Kota Semarang'</li>\n",
       "\t\t<li>'Kota Surabaya'</li>\n",
       "\t\t<li>'Kota Tangerang'</li>\n",
       "\t\t<li>'Kota Tangerang Selatan'</li>\n",
       "\t\t<li>'Kota Yogyakarta'</li>\n",
       "\t</ol>\n",
       "</details>"
      ],
      "text/latex": [
       "\\begin{enumerate*}\n",
       "\\item Jakarta Pusat\n",
       "\\item Kabupaten Bogor\n",
       "\\item Kota Tangerang\n",
       "\\item Kota Bogor\n",
       "\\item Kota Depok\n",
       "\\item Jakarta Timur\n",
       "\\item Kota Bekasi\n",
       "\\item Jakarta Selatan\n",
       "\\item Jakarta Utara\n",
       "\\item Jakarta Barat\n",
       "\\item Kabupaten Tangerang\n",
       "\\item Kabupaten Bekasi\n",
       "\\item Kota Tangerang Selatan\n",
       "\\item Kota Yogyakarta\n",
       "\\item Kabupaten Bantul\n",
       "\\item Kabupaten Wonogiri\n",
       "\\item Kota Medan\n",
       "\\item Kota Manado\n",
       "\\item Kota Bandung\n",
       "\\item Kabupaten Tasikmalaya\n",
       "\\item Kota Padang\n",
       "\\item Kabupaten Sleman\n",
       "\\item Kota Bandar Lampung\n",
       "\\item Kota Semarang\n",
       "\\item Kabupaten Lampung Selatan\n",
       "\\item Kota Surabaya\n",
       "\\item Kabupaten Kebumen\n",
       "\\item Kota Banda Aceh\n",
       "\\end{enumerate*}\n",
       "\n",
       "\\emph{Levels}: \\begin{enumerate*}\n",
       "\\item 'Jakarta Barat'\n",
       "\\item 'Jakarta Pusat'\n",
       "\\item 'Jakarta Selatan'\n",
       "\\item 'Jakarta Timur'\n",
       "\\item 'Jakarta Utara'\n",
       "\\item 'Kabupaten Bantul'\n",
       "\\item 'Kabupaten Bekasi'\n",
       "\\item 'Kabupaten Bogor'\n",
       "\\item 'Kabupaten Kebumen'\n",
       "\\item 'Kabupaten Lampung Selatan'\n",
       "\\item 'Kabupaten Sleman'\n",
       "\\item 'Kabupaten Tangerang'\n",
       "\\item 'Kabupaten Tasikmalaya'\n",
       "\\item 'Kabupaten Wonogiri'\n",
       "\\item 'Kota Banda Aceh'\n",
       "\\item 'Kota Bandar Lampung'\n",
       "\\item 'Kota Bandung'\n",
       "\\item 'Kota Bekasi'\n",
       "\\item 'Kota Bogor'\n",
       "\\item 'Kota Depok'\n",
       "\\item 'Kota Manado'\n",
       "\\item 'Kota Medan'\n",
       "\\item 'Kota Padang'\n",
       "\\item 'Kota Semarang'\n",
       "\\item 'Kota Surabaya'\n",
       "\\item 'Kota Tangerang'\n",
       "\\item 'Kota Tangerang Selatan'\n",
       "\\item 'Kota Yogyakarta'\n",
       "\\end{enumerate*}\n"
      ],
      "text/markdown": [
       "1. Jakarta Pusat\n",
       "2. Kabupaten Bogor\n",
       "3. Kota Tangerang\n",
       "4. Kota Bogor\n",
       "5. Kota Depok\n",
       "6. Jakarta Timur\n",
       "7. Kota Bekasi\n",
       "8. Jakarta Selatan\n",
       "9. Jakarta Utara\n",
       "10. Jakarta Barat\n",
       "11. Kabupaten Tangerang\n",
       "12. Kabupaten Bekasi\n",
       "13. Kota Tangerang Selatan\n",
       "14. Kota Yogyakarta\n",
       "15. Kabupaten Bantul\n",
       "16. Kabupaten Wonogiri\n",
       "17. Kota Medan\n",
       "18. Kota Manado\n",
       "19. Kota Bandung\n",
       "20. Kabupaten Tasikmalaya\n",
       "21. Kota Padang\n",
       "22. Kabupaten Sleman\n",
       "23. Kota Bandar Lampung\n",
       "24. Kota Semarang\n",
       "25. Kabupaten Lampung Selatan\n",
       "26. Kota Surabaya\n",
       "27. Kabupaten Kebumen\n",
       "28. Kota Banda Aceh\n",
       "\n",
       "\n",
       "\n",
       "**Levels**: 1. 'Jakarta Barat'\n",
       "2. 'Jakarta Pusat'\n",
       "3. 'Jakarta Selatan'\n",
       "4. 'Jakarta Timur'\n",
       "5. 'Jakarta Utara'\n",
       "6. 'Kabupaten Bantul'\n",
       "7. 'Kabupaten Bekasi'\n",
       "8. 'Kabupaten Bogor'\n",
       "9. 'Kabupaten Kebumen'\n",
       "10. 'Kabupaten Lampung Selatan'\n",
       "11. 'Kabupaten Sleman'\n",
       "12. 'Kabupaten Tangerang'\n",
       "13. 'Kabupaten Tasikmalaya'\n",
       "14. 'Kabupaten Wonogiri'\n",
       "15. 'Kota Banda Aceh'\n",
       "16. 'Kota Bandar Lampung'\n",
       "17. 'Kota Bandung'\n",
       "18. 'Kota Bekasi'\n",
       "19. 'Kota Bogor'\n",
       "20. 'Kota Depok'\n",
       "21. 'Kota Manado'\n",
       "22. 'Kota Medan'\n",
       "23. 'Kota Padang'\n",
       "24. 'Kota Semarang'\n",
       "25. 'Kota Surabaya'\n",
       "26. 'Kota Tangerang'\n",
       "27. 'Kota Tangerang Selatan'\n",
       "28. 'Kota Yogyakarta'\n",
       "\n",
       "\n"
      ],
      "text/plain": [
       " [1] Jakarta Pusat             Kabupaten Bogor          \n",
       " [3] Kota Tangerang            Kota Bogor               \n",
       " [5] Kota Depok                Jakarta Timur            \n",
       " [7] Kota Bekasi               Jakarta Selatan          \n",
       " [9] Jakarta Utara             Jakarta Barat            \n",
       "[11] Kabupaten Tangerang       Kabupaten Bekasi         \n",
       "[13] Kota Tangerang Selatan    Kota Yogyakarta          \n",
       "[15] Kabupaten Bantul          Kabupaten Wonogiri       \n",
       "[17] Kota Medan                Kota Manado              \n",
       "[19] Kota Bandung              Kabupaten Tasikmalaya    \n",
       "[21] Kota Padang               Kabupaten Sleman         \n",
       "[23] Kota Bandar Lampung       Kota Semarang            \n",
       "[25] Kabupaten Lampung Selatan Kota Surabaya            \n",
       "[27] Kabupaten Kebumen         Kota Banda Aceh          \n",
       "28 Levels: Jakarta Barat Jakarta Pusat Jakarta Selatan ... Kota Yogyakarta"
      ]
     },
     "metadata": {},
     "output_type": "display_data"
    },
    {
     "data": {
      "text/html": [
       "'Number of unique location: 28'"
      ],
      "text/latex": [
       "'Number of unique location: 28'"
      ],
      "text/markdown": [
       "'Number of unique location: 28'"
      ],
      "text/plain": [
       "[1] \"Number of unique location: 28\""
      ]
     },
     "metadata": {},
     "output_type": "display_data"
    }
   ],
   "source": [
    "# All Cities in Dataset\n",
    "unique(data.location$lokasi_dominan)\n",
    "paste('Number of unique location:',\n",
    "      summarise(data.location,\n",
    "                n_distinct(lokasi_dominan)))"
   ]
  },
  {
   "cell_type": "code",
   "execution_count": 72,
   "metadata": {},
   "outputs": [
    {
     "data": {
      "text/html": [
       "'List of Cities in Jabodetabek:'"
      ],
      "text/latex": [
       "'List of Cities in Jabodetabek:'"
      ],
      "text/markdown": [
       "'List of Cities in Jabodetabek:'"
      ],
      "text/plain": [
       "[1] \"List of Cities in Jabodetabek:\""
      ]
     },
     "metadata": {},
     "output_type": "display_data"
    },
    {
     "data": {
      "text/html": [
       "<ol class=list-inline>\n",
       "\t<li>'Jakarta Pusat'</li>\n",
       "\t<li>'Jakarta Timur'</li>\n",
       "\t<li>'Jakarta Selatan'</li>\n",
       "\t<li>'Jakarta Utara'</li>\n",
       "\t<li>'Jakarta Barat'</li>\n",
       "\t<li>'Kabupaten Bogor'</li>\n",
       "\t<li>'Kota Bogor'</li>\n",
       "\t<li>'Kota Depok'</li>\n",
       "\t<li>'Kota Tangerang'</li>\n",
       "\t<li>'Kabupaten Tangerang'</li>\n",
       "\t<li>'Kota Tangerang Selatan'</li>\n",
       "\t<li>'Kota Bekasi'</li>\n",
       "\t<li>'Kabupaten Bekasi'</li>\n",
       "</ol>\n"
      ],
      "text/latex": [
       "\\begin{enumerate*}\n",
       "\\item 'Jakarta Pusat'\n",
       "\\item 'Jakarta Timur'\n",
       "\\item 'Jakarta Selatan'\n",
       "\\item 'Jakarta Utara'\n",
       "\\item 'Jakarta Barat'\n",
       "\\item 'Kabupaten Bogor'\n",
       "\\item 'Kota Bogor'\n",
       "\\item 'Kota Depok'\n",
       "\\item 'Kota Tangerang'\n",
       "\\item 'Kabupaten Tangerang'\n",
       "\\item 'Kota Tangerang Selatan'\n",
       "\\item 'Kota Bekasi'\n",
       "\\item 'Kabupaten Bekasi'\n",
       "\\end{enumerate*}\n"
      ],
      "text/markdown": [
       "1. 'Jakarta Pusat'\n",
       "2. 'Jakarta Timur'\n",
       "3. 'Jakarta Selatan'\n",
       "4. 'Jakarta Utara'\n",
       "5. 'Jakarta Barat'\n",
       "6. 'Kabupaten Bogor'\n",
       "7. 'Kota Bogor'\n",
       "8. 'Kota Depok'\n",
       "9. 'Kota Tangerang'\n",
       "10. 'Kabupaten Tangerang'\n",
       "11. 'Kota Tangerang Selatan'\n",
       "12. 'Kota Bekasi'\n",
       "13. 'Kabupaten Bekasi'\n",
       "\n",
       "\n"
      ],
      "text/plain": [
       " [1] \"Jakarta Pusat\"          \"Jakarta Timur\"          \"Jakarta Selatan\"       \n",
       " [4] \"Jakarta Utara\"          \"Jakarta Barat\"          \"Kabupaten Bogor\"       \n",
       " [7] \"Kota Bogor\"             \"Kota Depok\"             \"Kota Tangerang\"        \n",
       "[10] \"Kabupaten Tangerang\"    \"Kota Tangerang Selatan\" \"Kota Bekasi\"           \n",
       "[13] \"Kabupaten Bekasi\"      "
      ]
     },
     "metadata": {},
     "output_type": "display_data"
    }
   ],
   "source": [
    "# List of cities in Jabodetabek\n",
    "cities.jabodetabek = c('Jakarta Pusat','Jakarta Timur','Jakarta Selatan','Jakarta Utara','Jakarta Barat',\n",
    "                       'Kabupaten Bogor','Kota Bogor',\n",
    "                       'Kota Depok',\n",
    "                       'Kota Tangerang','Kabupaten Tangerang','Kota Tangerang Selatan',\n",
    "                       'Kota Bekasi','Kabupaten Bekasi')\n",
    "paste('List of Cities in Jabodetabek:')\n",
    "cities.jabodetabek"
   ]
  },
  {
   "cell_type": "markdown",
   "metadata": {},
   "source": [
    "<h3>Data Mudik Employee - TokoLapak</h3>"
   ]
  },
  {
   "cell_type": "code",
   "execution_count": 73,
   "metadata": {
    "collapsed": true
   },
   "outputs": [],
   "source": [
    "data.mudik = data.location\n",
    "data.mudik$lokasi_dominan = as.character(data.mudik$lokasi_dominan) # Make it as character\n",
    "data.mudik$status = NULL\n",
    "for(i in 1:dim(data.mudik)[1]){\n",
    "    if(data.mudik[i,'lokasi_dominan'] %in% cities.jabodetabek){\n",
    "        data.mudik[i,'status'] = 1 # In Jabodetabek\n",
    "    }\n",
    "    else{\n",
    "        data.mudik[i,'status'] = 0 # Not in Jabodetabek\n",
    "    }\n",
    "}"
   ]
  },
  {
   "cell_type": "code",
   "execution_count": 74,
   "metadata": {},
   "outputs": [
    {
     "data": {
      "text/html": [
       "<table>\n",
       "<thead><tr><th scope=col>id</th><th scope=col>tanggal</th><th scope=col>lokasi_dominan</th><th scope=col>status</th></tr></thead>\n",
       "<tbody>\n",
       "\t<tr><td>1              </td><td>21/05/19       </td><td>Jakarta Pusat  </td><td>1              </td></tr>\n",
       "\t<tr><td>2              </td><td>21/05/19       </td><td>Kabupaten Bogor</td><td>1              </td></tr>\n",
       "\t<tr><td>3              </td><td>21/05/19       </td><td>Jakarta Pusat  </td><td>1              </td></tr>\n",
       "\t<tr><td>4              </td><td>21/05/19       </td><td>Kota Tangerang </td><td>1              </td></tr>\n",
       "\t<tr><td>5              </td><td>21/05/19       </td><td>Kota Bogor     </td><td>1              </td></tr>\n",
       "\t<tr><td>6              </td><td>21/05/19       </td><td>Kota Bogor     </td><td>1              </td></tr>\n",
       "</tbody>\n",
       "</table>\n"
      ],
      "text/latex": [
       "\\begin{tabular}{r|llll}\n",
       " id & tanggal & lokasi\\_dominan & status\\\\\n",
       "\\hline\n",
       "\t 1               & 21/05/19        & Jakarta Pusat   & 1              \\\\\n",
       "\t 2               & 21/05/19        & Kabupaten Bogor & 1              \\\\\n",
       "\t 3               & 21/05/19        & Jakarta Pusat   & 1              \\\\\n",
       "\t 4               & 21/05/19        & Kota Tangerang  & 1              \\\\\n",
       "\t 5               & 21/05/19        & Kota Bogor      & 1              \\\\\n",
       "\t 6               & 21/05/19        & Kota Bogor      & 1              \\\\\n",
       "\\end{tabular}\n"
      ],
      "text/markdown": [
       "\n",
       "id | tanggal | lokasi_dominan | status | \n",
       "|---|---|---|---|---|---|\n",
       "| 1               | 21/05/19        | Jakarta Pusat   | 1               | \n",
       "| 2               | 21/05/19        | Kabupaten Bogor | 1               | \n",
       "| 3               | 21/05/19        | Jakarta Pusat   | 1               | \n",
       "| 4               | 21/05/19        | Kota Tangerang  | 1               | \n",
       "| 5               | 21/05/19        | Kota Bogor      | 1               | \n",
       "| 6               | 21/05/19        | Kota Bogor      | 1               | \n",
       "\n",
       "\n"
      ],
      "text/plain": [
       "  id tanggal  lokasi_dominan  status\n",
       "1 1  21/05/19 Jakarta Pusat   1     \n",
       "2 2  21/05/19 Kabupaten Bogor 1     \n",
       "3 3  21/05/19 Jakarta Pusat   1     \n",
       "4 4  21/05/19 Kota Tangerang  1     \n",
       "5 5  21/05/19 Kota Bogor      1     \n",
       "6 6  21/05/19 Kota Bogor      1     "
      ]
     },
     "metadata": {},
     "output_type": "display_data"
    },
    {
     "name": "stdout",
     "output_type": "stream",
     "text": [
      "Classes 'tbl_df', 'tbl' and 'data.frame':\t2600 obs. of  4 variables:\n",
      " $ id            : int  1 2 3 4 5 6 7 8 9 10 ...\n",
      " $ tanggal       : Factor w/ 26 levels \"01/06/19\",\"02/06/19\",..: 16 16 16 16 16 16 16 16 16 16 ...\n",
      " $ lokasi_dominan: Factor w/ 28 levels \"Jakarta Barat\",..: 2 8 2 26 19 19 20 20 19 4 ...\n",
      " $ status        : num  1 1 1 1 1 1 1 1 1 1 ...\n"
     ]
    },
    {
     "data": {
      "text/html": [
       "<ol class=list-inline>\n",
       "\t<li>1</li>\n",
       "\t<li>0</li>\n",
       "</ol>\n"
      ],
      "text/latex": [
       "\\begin{enumerate*}\n",
       "\\item 1\n",
       "\\item 0\n",
       "\\end{enumerate*}\n"
      ],
      "text/markdown": [
       "1. 1\n",
       "2. 0\n",
       "\n",
       "\n"
      ],
      "text/plain": [
       "[1] 1 0"
      ]
     },
     "metadata": {},
     "output_type": "display_data"
    }
   ],
   "source": [
    "head(data.mudik)\n",
    "# Convert into default type\n",
    "data.mudik$lokasi_dominan = as.factor(data.mudik$lokasi_dominan)\n",
    "str(data.mudik)\n",
    "unique(data.mudik$status)"
   ]
  },
  {
   "cell_type": "code",
   "execution_count": 75,
   "metadata": {
    "collapsed": true
   },
   "outputs": [],
   "source": [
    "# Make Index\n",
    "bottom.trace = seq(from = 1,to = dim(data.mudik)[1],by = dim(data.employee)[1])\n",
    "up.trace = seq(from = 100,to = dim(data.mudik)[1],by = dim(data.employee)[1])\n",
    "up.trace = up.trace\n",
    "data.mudik.final = data.employee[,]\n",
    "\n",
    "# Function for convert the data\n",
    "for(i in 1:length(up.trace)) {\n",
    "    data.split = data.mudik[bottom.trace[i]:up.trace[i],4]\n",
    "    data.mudik.final = cbind(data.mudik.final,\n",
    "                             data.split)\n",
    "}"
   ]
  },
  {
   "cell_type": "code",
   "execution_count": 76,
   "metadata": {},
   "outputs": [
    {
     "data": {
      "text/html": [
       "<table>\n",
       "<thead><tr><th scope=col>id</th><th scope=col>jenis_kelamin</th><th scope=col>divisi</th><th scope=col>umur</th><th scope=col>status</th><th scope=col>status.1</th><th scope=col>status.2</th><th scope=col>status.3</th><th scope=col>status.4</th><th scope=col>status.5</th><th scope=col>...</th><th scope=col>status</th><th scope=col>status.1</th><th scope=col>status.2</th><th scope=col>status.3</th><th scope=col>status.4</th><th scope=col>status.5</th><th scope=col>status.6</th><th scope=col>status.7</th><th scope=col>status.8</th><th scope=col>status.9</th></tr></thead>\n",
       "<tbody>\n",
       "\t<tr><td>1                    </td><td>Laki-laki            </td><td>Customer Service     </td><td>34                   </td><td>1                    </td><td>1                    </td><td>1                    </td><td>1                    </td><td>1                    </td><td>0                    </td><td>...                  </td><td>0                    </td><td>0                    </td><td>0                    </td><td>0                    </td><td>0                    </td><td>1                    </td><td>1                    </td><td>1                    </td><td>1                    </td><td>1                    </td></tr>\n",
       "\t<tr><td>2                    </td><td>Laki-laki            </td><td>Data Engineer        </td><td>26                   </td><td>1                    </td><td>1                    </td><td>1                    </td><td>1                    </td><td>1                    </td><td>1                    </td><td>...                  </td><td>0                    </td><td>0                    </td><td>0                    </td><td>0                    </td><td>1                    </td><td>1                    </td><td>1                    </td><td>1                    </td><td>1                    </td><td>1                    </td></tr>\n",
       "\t<tr><td>3                    </td><td>Laki-laki            </td><td>Software Engineer    </td><td>28                   </td><td>1                    </td><td>1                    </td><td>1                    </td><td>1                    </td><td>1                    </td><td>1                    </td><td>...                  </td><td>0                    </td><td>0                    </td><td>1                    </td><td>1                    </td><td>1                    </td><td>1                    </td><td>1                    </td><td>1                    </td><td>1                    </td><td>1                    </td></tr>\n",
       "\t<tr><td>4                    </td><td>Perempuan            </td><td>Business Intelligence</td><td>21                   </td><td>1                    </td><td>1                    </td><td>1                    </td><td>1                    </td><td>1                    </td><td>1                    </td><td>...                  </td><td>0                    </td><td>0                    </td><td>0                    </td><td>1                    </td><td>1                    </td><td>1                    </td><td>1                    </td><td>1                    </td><td>1                    </td><td>1                    </td></tr>\n",
       "\t<tr><td>5                    </td><td>Perempuan            </td><td>Software Engineer    </td><td>21                   </td><td>1                    </td><td>1                    </td><td>1                    </td><td>1                    </td><td>1                    </td><td>1                    </td><td>...                  </td><td>0                    </td><td>0                    </td><td>0                    </td><td>0                    </td><td>1                    </td><td>1                    </td><td>1                    </td><td>1                    </td><td>1                    </td><td>1                    </td></tr>\n",
       "\t<tr><td>6                    </td><td>Laki-laki            </td><td>Business Intelligence</td><td>28                   </td><td>1                    </td><td>1                    </td><td>1                    </td><td>1                    </td><td>1                    </td><td>1                    </td><td>...                  </td><td>0                    </td><td>0                    </td><td>0                    </td><td>0                    </td><td>0                    </td><td>1                    </td><td>1                    </td><td>1                    </td><td>1                    </td><td>1                    </td></tr>\n",
       "</tbody>\n",
       "</table>\n"
      ],
      "text/latex": [
       "\\begin{tabular}{r|llllllllllllllllllllllllllllll}\n",
       " id & jenis\\_kelamin & divisi & umur & status & status.1 & status.2 & status.3 & status.4 & status.5 & ... & status & status.1 & status.2 & status.3 & status.4 & status.5 & status.6 & status.7 & status.8 & status.9\\\\\n",
       "\\hline\n",
       "\t 1                     & Laki-laki             & Customer Service      & 34                    & 1                     & 1                     & 1                     & 1                     & 1                     & 0                     & ...                   & 0                     & 0                     & 0                     & 0                     & 0                     & 1                     & 1                     & 1                     & 1                     & 1                    \\\\\n",
       "\t 2                     & Laki-laki             & Data Engineer         & 26                    & 1                     & 1                     & 1                     & 1                     & 1                     & 1                     & ...                   & 0                     & 0                     & 0                     & 0                     & 1                     & 1                     & 1                     & 1                     & 1                     & 1                    \\\\\n",
       "\t 3                     & Laki-laki             & Software Engineer     & 28                    & 1                     & 1                     & 1                     & 1                     & 1                     & 1                     & ...                   & 0                     & 0                     & 1                     & 1                     & 1                     & 1                     & 1                     & 1                     & 1                     & 1                    \\\\\n",
       "\t 4                     & Perempuan             & Business Intelligence & 21                    & 1                     & 1                     & 1                     & 1                     & 1                     & 1                     & ...                   & 0                     & 0                     & 0                     & 1                     & 1                     & 1                     & 1                     & 1                     & 1                     & 1                    \\\\\n",
       "\t 5                     & Perempuan             & Software Engineer     & 21                    & 1                     & 1                     & 1                     & 1                     & 1                     & 1                     & ...                   & 0                     & 0                     & 0                     & 0                     & 1                     & 1                     & 1                     & 1                     & 1                     & 1                    \\\\\n",
       "\t 6                     & Laki-laki             & Business Intelligence & 28                    & 1                     & 1                     & 1                     & 1                     & 1                     & 1                     & ...                   & 0                     & 0                     & 0                     & 0                     & 0                     & 1                     & 1                     & 1                     & 1                     & 1                    \\\\\n",
       "\\end{tabular}\n"
      ],
      "text/markdown": [
       "\n",
       "id | jenis_kelamin | divisi | umur | status | status.1 | status.2 | status.3 | status.4 | status.5 | ... | status | status.1 | status.2 | status.3 | status.4 | status.5 | status.6 | status.7 | status.8 | status.9 | \n",
       "|---|---|---|---|---|---|\n",
       "| 1                     | Laki-laki             | Customer Service      | 34                    | 1                     | 1                     | 1                     | 1                     | 1                     | 0                     | ...                   | 0                     | 0                     | 0                     | 0                     | 0                     | 1                     | 1                     | 1                     | 1                     | 1                     | \n",
       "| 2                     | Laki-laki             | Data Engineer         | 26                    | 1                     | 1                     | 1                     | 1                     | 1                     | 1                     | ...                   | 0                     | 0                     | 0                     | 0                     | 1                     | 1                     | 1                     | 1                     | 1                     | 1                     | \n",
       "| 3                     | Laki-laki             | Software Engineer     | 28                    | 1                     | 1                     | 1                     | 1                     | 1                     | 1                     | ...                   | 0                     | 0                     | 1                     | 1                     | 1                     | 1                     | 1                     | 1                     | 1                     | 1                     | \n",
       "| 4                     | Perempuan             | Business Intelligence | 21                    | 1                     | 1                     | 1                     | 1                     | 1                     | 1                     | ...                   | 0                     | 0                     | 0                     | 1                     | 1                     | 1                     | 1                     | 1                     | 1                     | 1                     | \n",
       "| 5                     | Perempuan             | Software Engineer     | 21                    | 1                     | 1                     | 1                     | 1                     | 1                     | 1                     | ...                   | 0                     | 0                     | 0                     | 0                     | 1                     | 1                     | 1                     | 1                     | 1                     | 1                     | \n",
       "| 6                     | Laki-laki             | Business Intelligence | 28                    | 1                     | 1                     | 1                     | 1                     | 1                     | 1                     | ...                   | 0                     | 0                     | 0                     | 0                     | 0                     | 1                     | 1                     | 1                     | 1                     | 1                     | \n",
       "\n",
       "\n"
      ],
      "text/plain": [
       "  id jenis_kelamin divisi                umur status status.1 status.2 status.3\n",
       "1 1  Laki-laki     Customer Service      34   1      1        1        1       \n",
       "2 2  Laki-laki     Data Engineer         26   1      1        1        1       \n",
       "3 3  Laki-laki     Software Engineer     28   1      1        1        1       \n",
       "4 4  Perempuan     Business Intelligence 21   1      1        1        1       \n",
       "5 5  Perempuan     Software Engineer     21   1      1        1        1       \n",
       "6 6  Laki-laki     Business Intelligence 28   1      1        1        1       \n",
       "  status.4 status.5 ... status status.1 status.2 status.3 status.4 status.5\n",
       "1 1        0        ... 0      0        0        0        0        1       \n",
       "2 1        1        ... 0      0        0        0        1        1       \n",
       "3 1        1        ... 0      0        1        1        1        1       \n",
       "4 1        1        ... 0      0        0        1        1        1       \n",
       "5 1        1        ... 0      0        0        0        1        1       \n",
       "6 1        1        ... 0      0        0        0        0        1       \n",
       "  status.6 status.7 status.8 status.9\n",
       "1 1        1        1        1       \n",
       "2 1        1        1        1       \n",
       "3 1        1        1        1       \n",
       "4 1        1        1        1       \n",
       "5 1        1        1        1       \n",
       "6 1        1        1        1       "
      ]
     },
     "metadata": {},
     "output_type": "display_data"
    }
   ],
   "source": [
    "head(data.mudik.final)"
   ]
  },
  {
   "cell_type": "code",
   "execution_count": 77,
   "metadata": {},
   "outputs": [
    {
     "data": {
      "text/html": [
       "<ol class=list-inline>\n",
       "\t<li>'id'</li>\n",
       "\t<li>'jenis_kelamin'</li>\n",
       "\t<li>'divisi'</li>\n",
       "\t<li>'umur'</li>\n",
       "\t<li>'May_21'</li>\n",
       "\t<li>'May_22'</li>\n",
       "\t<li>'May_23'</li>\n",
       "\t<li>'May_24'</li>\n",
       "\t<li>'May_25'</li>\n",
       "\t<li>'May_26'</li>\n",
       "\t<li>'May_27'</li>\n",
       "\t<li>'May_28'</li>\n",
       "\t<li>'May_29'</li>\n",
       "\t<li>'May_30'</li>\n",
       "\t<li>'May_31'</li>\n",
       "\t<li>'June_1'</li>\n",
       "\t<li>'June_2'</li>\n",
       "\t<li>'June_3'</li>\n",
       "\t<li>'June_4'</li>\n",
       "\t<li>'June_5'</li>\n",
       "\t<li>'June_6'</li>\n",
       "\t<li>'June_7'</li>\n",
       "\t<li>'June_8'</li>\n",
       "\t<li>'June_9'</li>\n",
       "\t<li>'June_10'</li>\n",
       "\t<li>'June_11'</li>\n",
       "\t<li>'June_12'</li>\n",
       "\t<li>'June_13'</li>\n",
       "\t<li>'June_14'</li>\n",
       "\t<li>'June_15'</li>\n",
       "</ol>\n"
      ],
      "text/latex": [
       "\\begin{enumerate*}\n",
       "\\item 'id'\n",
       "\\item 'jenis\\_kelamin'\n",
       "\\item 'divisi'\n",
       "\\item 'umur'\n",
       "\\item 'May\\_21'\n",
       "\\item 'May\\_22'\n",
       "\\item 'May\\_23'\n",
       "\\item 'May\\_24'\n",
       "\\item 'May\\_25'\n",
       "\\item 'May\\_26'\n",
       "\\item 'May\\_27'\n",
       "\\item 'May\\_28'\n",
       "\\item 'May\\_29'\n",
       "\\item 'May\\_30'\n",
       "\\item 'May\\_31'\n",
       "\\item 'June\\_1'\n",
       "\\item 'June\\_2'\n",
       "\\item 'June\\_3'\n",
       "\\item 'June\\_4'\n",
       "\\item 'June\\_5'\n",
       "\\item 'June\\_6'\n",
       "\\item 'June\\_7'\n",
       "\\item 'June\\_8'\n",
       "\\item 'June\\_9'\n",
       "\\item 'June\\_10'\n",
       "\\item 'June\\_11'\n",
       "\\item 'June\\_12'\n",
       "\\item 'June\\_13'\n",
       "\\item 'June\\_14'\n",
       "\\item 'June\\_15'\n",
       "\\end{enumerate*}\n"
      ],
      "text/markdown": [
       "1. 'id'\n",
       "2. 'jenis_kelamin'\n",
       "3. 'divisi'\n",
       "4. 'umur'\n",
       "5. 'May_21'\n",
       "6. 'May_22'\n",
       "7. 'May_23'\n",
       "8. 'May_24'\n",
       "9. 'May_25'\n",
       "10. 'May_26'\n",
       "11. 'May_27'\n",
       "12. 'May_28'\n",
       "13. 'May_29'\n",
       "14. 'May_30'\n",
       "15. 'May_31'\n",
       "16. 'June_1'\n",
       "17. 'June_2'\n",
       "18. 'June_3'\n",
       "19. 'June_4'\n",
       "20. 'June_5'\n",
       "21. 'June_6'\n",
       "22. 'June_7'\n",
       "23. 'June_8'\n",
       "24. 'June_9'\n",
       "25. 'June_10'\n",
       "26. 'June_11'\n",
       "27. 'June_12'\n",
       "28. 'June_13'\n",
       "29. 'June_14'\n",
       "30. 'June_15'\n",
       "\n",
       "\n"
      ],
      "text/plain": [
       " [1] \"id\"            \"jenis_kelamin\" \"divisi\"        \"umur\"         \n",
       " [5] \"May_21\"        \"May_22\"        \"May_23\"        \"May_24\"       \n",
       " [9] \"May_25\"        \"May_26\"        \"May_27\"        \"May_28\"       \n",
       "[13] \"May_29\"        \"May_30\"        \"May_31\"        \"June_1\"       \n",
       "[17] \"June_2\"        \"June_3\"        \"June_4\"        \"June_5\"       \n",
       "[21] \"June_6\"        \"June_7\"        \"June_8\"        \"June_9\"       \n",
       "[25] \"June_10\"       \"June_11\"       \"June_12\"       \"June_13\"      \n",
       "[29] \"June_14\"       \"June_15\"      "
      ]
     },
     "metadata": {},
     "output_type": "display_data"
    }
   ],
   "source": [
    "colnames(data.mudik.final)[5:dim(data.mudik.final)[2]] = date.num\n",
    "colnames(data.mudik.final)"
   ]
  },
  {
   "cell_type": "code",
   "execution_count": 78,
   "metadata": {
    "scrolled": true
   },
   "outputs": [
    {
     "data": {
      "text/html": [
       "<table>\n",
       "<thead><tr><th scope=col>id</th><th scope=col>jenis_kelamin</th><th scope=col>divisi</th><th scope=col>umur</th><th scope=col>May_21</th><th scope=col>May_22</th><th scope=col>May_23</th><th scope=col>May_24</th><th scope=col>May_25</th><th scope=col>May_26</th><th scope=col>...</th><th scope=col>June_6</th><th scope=col>June_7</th><th scope=col>June_8</th><th scope=col>June_9</th><th scope=col>June_10</th><th scope=col>June_11</th><th scope=col>June_12</th><th scope=col>June_13</th><th scope=col>June_14</th><th scope=col>June_15</th></tr></thead>\n",
       "<tbody>\n",
       "\t<tr><td>1                    </td><td>Laki-laki            </td><td>Customer Service     </td><td>34                   </td><td>1                    </td><td>1                    </td><td>1                    </td><td>1                    </td><td>1                    </td><td>0                    </td><td>...                  </td><td>0                    </td><td>0                    </td><td>0                    </td><td>0                    </td><td>0                    </td><td>1                    </td><td>1                    </td><td>1                    </td><td>1                    </td><td>1                    </td></tr>\n",
       "\t<tr><td>2                    </td><td>Laki-laki            </td><td>Data Engineer        </td><td>26                   </td><td>1                    </td><td>1                    </td><td>1                    </td><td>1                    </td><td>1                    </td><td>1                    </td><td>...                  </td><td>0                    </td><td>0                    </td><td>0                    </td><td>0                    </td><td>1                    </td><td>1                    </td><td>1                    </td><td>1                    </td><td>1                    </td><td>1                    </td></tr>\n",
       "\t<tr><td>3                    </td><td>Laki-laki            </td><td>Software Engineer    </td><td>28                   </td><td>1                    </td><td>1                    </td><td>1                    </td><td>1                    </td><td>1                    </td><td>1                    </td><td>...                  </td><td>0                    </td><td>0                    </td><td>1                    </td><td>1                    </td><td>1                    </td><td>1                    </td><td>1                    </td><td>1                    </td><td>1                    </td><td>1                    </td></tr>\n",
       "\t<tr><td>4                    </td><td>Perempuan            </td><td>Business Intelligence</td><td>21                   </td><td>1                    </td><td>1                    </td><td>1                    </td><td>1                    </td><td>1                    </td><td>1                    </td><td>...                  </td><td>0                    </td><td>0                    </td><td>0                    </td><td>1                    </td><td>1                    </td><td>1                    </td><td>1                    </td><td>1                    </td><td>1                    </td><td>1                    </td></tr>\n",
       "\t<tr><td>5                    </td><td>Perempuan            </td><td>Software Engineer    </td><td>21                   </td><td>1                    </td><td>1                    </td><td>1                    </td><td>1                    </td><td>1                    </td><td>1                    </td><td>...                  </td><td>0                    </td><td>0                    </td><td>0                    </td><td>0                    </td><td>1                    </td><td>1                    </td><td>1                    </td><td>1                    </td><td>1                    </td><td>1                    </td></tr>\n",
       "\t<tr><td>6                    </td><td>Laki-laki            </td><td>Business Intelligence</td><td>28                   </td><td>1                    </td><td>1                    </td><td>1                    </td><td>1                    </td><td>1                    </td><td>1                    </td><td>...                  </td><td>0                    </td><td>0                    </td><td>0                    </td><td>0                    </td><td>0                    </td><td>1                    </td><td>1                    </td><td>1                    </td><td>1                    </td><td>1                    </td></tr>\n",
       "</tbody>\n",
       "</table>\n"
      ],
      "text/latex": [
       "\\begin{tabular}{r|llllllllllllllllllllllllllllll}\n",
       " id & jenis\\_kelamin & divisi & umur & May\\_21 & May\\_22 & May\\_23 & May\\_24 & May\\_25 & May\\_26 & ... & June\\_6 & June\\_7 & June\\_8 & June\\_9 & June\\_10 & June\\_11 & June\\_12 & June\\_13 & June\\_14 & June\\_15\\\\\n",
       "\\hline\n",
       "\t 1                     & Laki-laki             & Customer Service      & 34                    & 1                     & 1                     & 1                     & 1                     & 1                     & 0                     & ...                   & 0                     & 0                     & 0                     & 0                     & 0                     & 1                     & 1                     & 1                     & 1                     & 1                    \\\\\n",
       "\t 2                     & Laki-laki             & Data Engineer         & 26                    & 1                     & 1                     & 1                     & 1                     & 1                     & 1                     & ...                   & 0                     & 0                     & 0                     & 0                     & 1                     & 1                     & 1                     & 1                     & 1                     & 1                    \\\\\n",
       "\t 3                     & Laki-laki             & Software Engineer     & 28                    & 1                     & 1                     & 1                     & 1                     & 1                     & 1                     & ...                   & 0                     & 0                     & 1                     & 1                     & 1                     & 1                     & 1                     & 1                     & 1                     & 1                    \\\\\n",
       "\t 4                     & Perempuan             & Business Intelligence & 21                    & 1                     & 1                     & 1                     & 1                     & 1                     & 1                     & ...                   & 0                     & 0                     & 0                     & 1                     & 1                     & 1                     & 1                     & 1                     & 1                     & 1                    \\\\\n",
       "\t 5                     & Perempuan             & Software Engineer     & 21                    & 1                     & 1                     & 1                     & 1                     & 1                     & 1                     & ...                   & 0                     & 0                     & 0                     & 0                     & 1                     & 1                     & 1                     & 1                     & 1                     & 1                    \\\\\n",
       "\t 6                     & Laki-laki             & Business Intelligence & 28                    & 1                     & 1                     & 1                     & 1                     & 1                     & 1                     & ...                   & 0                     & 0                     & 0                     & 0                     & 0                     & 1                     & 1                     & 1                     & 1                     & 1                    \\\\\n",
       "\\end{tabular}\n"
      ],
      "text/markdown": [
       "\n",
       "id | jenis_kelamin | divisi | umur | May_21 | May_22 | May_23 | May_24 | May_25 | May_26 | ... | June_6 | June_7 | June_8 | June_9 | June_10 | June_11 | June_12 | June_13 | June_14 | June_15 | \n",
       "|---|---|---|---|---|---|\n",
       "| 1                     | Laki-laki             | Customer Service      | 34                    | 1                     | 1                     | 1                     | 1                     | 1                     | 0                     | ...                   | 0                     | 0                     | 0                     | 0                     | 0                     | 1                     | 1                     | 1                     | 1                     | 1                     | \n",
       "| 2                     | Laki-laki             | Data Engineer         | 26                    | 1                     | 1                     | 1                     | 1                     | 1                     | 1                     | ...                   | 0                     | 0                     | 0                     | 0                     | 1                     | 1                     | 1                     | 1                     | 1                     | 1                     | \n",
       "| 3                     | Laki-laki             | Software Engineer     | 28                    | 1                     | 1                     | 1                     | 1                     | 1                     | 1                     | ...                   | 0                     | 0                     | 1                     | 1                     | 1                     | 1                     | 1                     | 1                     | 1                     | 1                     | \n",
       "| 4                     | Perempuan             | Business Intelligence | 21                    | 1                     | 1                     | 1                     | 1                     | 1                     | 1                     | ...                   | 0                     | 0                     | 0                     | 1                     | 1                     | 1                     | 1                     | 1                     | 1                     | 1                     | \n",
       "| 5                     | Perempuan             | Software Engineer     | 21                    | 1                     | 1                     | 1                     | 1                     | 1                     | 1                     | ...                   | 0                     | 0                     | 0                     | 0                     | 1                     | 1                     | 1                     | 1                     | 1                     | 1                     | \n",
       "| 6                     | Laki-laki             | Business Intelligence | 28                    | 1                     | 1                     | 1                     | 1                     | 1                     | 1                     | ...                   | 0                     | 0                     | 0                     | 0                     | 0                     | 1                     | 1                     | 1                     | 1                     | 1                     | \n",
       "\n",
       "\n"
      ],
      "text/plain": [
       "  id jenis_kelamin divisi                umur May_21 May_22 May_23 May_24\n",
       "1 1  Laki-laki     Customer Service      34   1      1      1      1     \n",
       "2 2  Laki-laki     Data Engineer         26   1      1      1      1     \n",
       "3 3  Laki-laki     Software Engineer     28   1      1      1      1     \n",
       "4 4  Perempuan     Business Intelligence 21   1      1      1      1     \n",
       "5 5  Perempuan     Software Engineer     21   1      1      1      1     \n",
       "6 6  Laki-laki     Business Intelligence 28   1      1      1      1     \n",
       "  May_25 May_26 ... June_6 June_7 June_8 June_9 June_10 June_11 June_12 June_13\n",
       "1 1      0      ... 0      0      0      0      0       1       1       1      \n",
       "2 1      1      ... 0      0      0      0      1       1       1       1      \n",
       "3 1      1      ... 0      0      1      1      1       1       1       1      \n",
       "4 1      1      ... 0      0      0      1      1       1       1       1      \n",
       "5 1      1      ... 0      0      0      0      1       1       1       1      \n",
       "6 1      1      ... 0      0      0      0      0       1       1       1      \n",
       "  June_14 June_15\n",
       "1 1       1      \n",
       "2 1       1      \n",
       "3 1       1      \n",
       "4 1       1      \n",
       "5 1       1      \n",
       "6 1       1      "
      ]
     },
     "metadata": {},
     "output_type": "display_data"
    }
   ],
   "source": [
    "head(data.mudik.final)"
   ]
  },
  {
   "cell_type": "code",
   "execution_count": 79,
   "metadata": {},
   "outputs": [
    {
     "data": {
      "text/plain": [
       "   Min. 1st Qu.  Median    Mean 3rd Qu.    Max. \n",
       "   6.00   15.00   17.00   17.07   19.00   26.00 "
      ]
     },
     "metadata": {},
     "output_type": "display_data"
    }
   ],
   "source": [
    "# Status 'mudik' Total in Numeric\n",
    "data.mudik.final$status.num.total = NULL\n",
    "data.mudik.final$status.num.total = rowSums(data.mudik.final[,5:dim(data.mudik.final)[2]])\n",
    "summary(data.mudik.final$status.num.total)"
   ]
  },
  {
   "cell_type": "code",
   "execution_count": 80,
   "metadata": {},
   "outputs": [
    {
     "data": {
      "text/html": [],
      "text/latex": [],
      "text/markdown": [],
      "text/plain": [
       "integer(0)"
      ]
     },
     "metadata": {},
     "output_type": "display_data"
    }
   ],
   "source": [
    "# Status 'mudik' Total in Factor\n",
    "data.mudik.final$status.total - NULL\n",
    "for(i in 1:dim(data.mudik.final)[1]){\n",
    "    if(data.mudik.final[i,'status.num.total'] == 26){\n",
    "        data.mudik.final[i,'status.total'] = 1 # Tidak mudik\n",
    "    }\n",
    "    else{\n",
    "        data.mudik.final[i,'status.total'] = 0 # Mudik\n",
    "    }\n",
    "}"
   ]
  },
  {
   "cell_type": "code",
   "execution_count": 81,
   "metadata": {},
   "outputs": [
    {
     "data": {
      "text/html": [
       "<table>\n",
       "<thead><tr><th scope=col>id</th><th scope=col>jenis_kelamin</th><th scope=col>divisi</th><th scope=col>umur</th><th scope=col>May_21</th><th scope=col>May_22</th><th scope=col>May_23</th><th scope=col>May_24</th><th scope=col>May_25</th><th scope=col>May_26</th><th scope=col>...</th><th scope=col>June_8</th><th scope=col>June_9</th><th scope=col>June_10</th><th scope=col>June_11</th><th scope=col>June_12</th><th scope=col>June_13</th><th scope=col>June_14</th><th scope=col>June_15</th><th scope=col>status.num.total</th><th scope=col>status.total</th></tr></thead>\n",
       "<tbody>\n",
       "\t<tr><td>1                    </td><td>Laki-laki            </td><td>Customer Service     </td><td>34                   </td><td>1                    </td><td>1                    </td><td>1                    </td><td>1                    </td><td>1                    </td><td>0                    </td><td>...                  </td><td>0                    </td><td>0                    </td><td>0                    </td><td>1                    </td><td>1                    </td><td>1                    </td><td>1                    </td><td>1                    </td><td>11                   </td><td>0                    </td></tr>\n",
       "\t<tr><td>2                    </td><td>Laki-laki            </td><td>Data Engineer        </td><td>26                   </td><td>1                    </td><td>1                    </td><td>1                    </td><td>1                    </td><td>1                    </td><td>1                    </td><td>...                  </td><td>0                    </td><td>0                    </td><td>1                    </td><td>1                    </td><td>1                    </td><td>1                    </td><td>1                    </td><td>1                    </td><td>15                   </td><td>0                    </td></tr>\n",
       "\t<tr><td>3                    </td><td>Laki-laki            </td><td>Software Engineer    </td><td>28                   </td><td>1                    </td><td>1                    </td><td>1                    </td><td>1                    </td><td>1                    </td><td>1                    </td><td>...                  </td><td>1                    </td><td>1                    </td><td>1                    </td><td>1                    </td><td>1                    </td><td>1                    </td><td>1                    </td><td>1                    </td><td>21                   </td><td>0                    </td></tr>\n",
       "\t<tr><td>4                    </td><td>Perempuan            </td><td>Business Intelligence</td><td>21                   </td><td>1                    </td><td>1                    </td><td>1                    </td><td>1                    </td><td>1                    </td><td>1                    </td><td>...                  </td><td>0                    </td><td>1                    </td><td>1                    </td><td>1                    </td><td>1                    </td><td>1                    </td><td>1                    </td><td>1                    </td><td>17                   </td><td>0                    </td></tr>\n",
       "\t<tr><td>5                    </td><td>Perempuan            </td><td>Software Engineer    </td><td>21                   </td><td>1                    </td><td>1                    </td><td>1                    </td><td>1                    </td><td>1                    </td><td>1                    </td><td>...                  </td><td>0                    </td><td>0                    </td><td>1                    </td><td>1                    </td><td>1                    </td><td>1                    </td><td>1                    </td><td>1                    </td><td>15                   </td><td>0                    </td></tr>\n",
       "\t<tr><td>6                    </td><td>Laki-laki            </td><td>Business Intelligence</td><td>28                   </td><td>1                    </td><td>1                    </td><td>1                    </td><td>1                    </td><td>1                    </td><td>1                    </td><td>...                  </td><td>0                    </td><td>0                    </td><td>0                    </td><td>1                    </td><td>1                    </td><td>1                    </td><td>1                    </td><td>1                    </td><td>12                   </td><td>0                    </td></tr>\n",
       "</tbody>\n",
       "</table>\n"
      ],
      "text/latex": [
       "\\begin{tabular}{r|llllllllllllllllllllllllllllllll}\n",
       " id & jenis\\_kelamin & divisi & umur & May\\_21 & May\\_22 & May\\_23 & May\\_24 & May\\_25 & May\\_26 & ... & June\\_8 & June\\_9 & June\\_10 & June\\_11 & June\\_12 & June\\_13 & June\\_14 & June\\_15 & status.num.total & status.total\\\\\n",
       "\\hline\n",
       "\t 1                     & Laki-laki             & Customer Service      & 34                    & 1                     & 1                     & 1                     & 1                     & 1                     & 0                     & ...                   & 0                     & 0                     & 0                     & 1                     & 1                     & 1                     & 1                     & 1                     & 11                    & 0                    \\\\\n",
       "\t 2                     & Laki-laki             & Data Engineer         & 26                    & 1                     & 1                     & 1                     & 1                     & 1                     & 1                     & ...                   & 0                     & 0                     & 1                     & 1                     & 1                     & 1                     & 1                     & 1                     & 15                    & 0                    \\\\\n",
       "\t 3                     & Laki-laki             & Software Engineer     & 28                    & 1                     & 1                     & 1                     & 1                     & 1                     & 1                     & ...                   & 1                     & 1                     & 1                     & 1                     & 1                     & 1                     & 1                     & 1                     & 21                    & 0                    \\\\\n",
       "\t 4                     & Perempuan             & Business Intelligence & 21                    & 1                     & 1                     & 1                     & 1                     & 1                     & 1                     & ...                   & 0                     & 1                     & 1                     & 1                     & 1                     & 1                     & 1                     & 1                     & 17                    & 0                    \\\\\n",
       "\t 5                     & Perempuan             & Software Engineer     & 21                    & 1                     & 1                     & 1                     & 1                     & 1                     & 1                     & ...                   & 0                     & 0                     & 1                     & 1                     & 1                     & 1                     & 1                     & 1                     & 15                    & 0                    \\\\\n",
       "\t 6                     & Laki-laki             & Business Intelligence & 28                    & 1                     & 1                     & 1                     & 1                     & 1                     & 1                     & ...                   & 0                     & 0                     & 0                     & 1                     & 1                     & 1                     & 1                     & 1                     & 12                    & 0                    \\\\\n",
       "\\end{tabular}\n"
      ],
      "text/markdown": [
       "\n",
       "id | jenis_kelamin | divisi | umur | May_21 | May_22 | May_23 | May_24 | May_25 | May_26 | ... | June_8 | June_9 | June_10 | June_11 | June_12 | June_13 | June_14 | June_15 | status.num.total | status.total | \n",
       "|---|---|---|---|---|---|\n",
       "| 1                     | Laki-laki             | Customer Service      | 34                    | 1                     | 1                     | 1                     | 1                     | 1                     | 0                     | ...                   | 0                     | 0                     | 0                     | 1                     | 1                     | 1                     | 1                     | 1                     | 11                    | 0                     | \n",
       "| 2                     | Laki-laki             | Data Engineer         | 26                    | 1                     | 1                     | 1                     | 1                     | 1                     | 1                     | ...                   | 0                     | 0                     | 1                     | 1                     | 1                     | 1                     | 1                     | 1                     | 15                    | 0                     | \n",
       "| 3                     | Laki-laki             | Software Engineer     | 28                    | 1                     | 1                     | 1                     | 1                     | 1                     | 1                     | ...                   | 1                     | 1                     | 1                     | 1                     | 1                     | 1                     | 1                     | 1                     | 21                    | 0                     | \n",
       "| 4                     | Perempuan             | Business Intelligence | 21                    | 1                     | 1                     | 1                     | 1                     | 1                     | 1                     | ...                   | 0                     | 1                     | 1                     | 1                     | 1                     | 1                     | 1                     | 1                     | 17                    | 0                     | \n",
       "| 5                     | Perempuan             | Software Engineer     | 21                    | 1                     | 1                     | 1                     | 1                     | 1                     | 1                     | ...                   | 0                     | 0                     | 1                     | 1                     | 1                     | 1                     | 1                     | 1                     | 15                    | 0                     | \n",
       "| 6                     | Laki-laki             | Business Intelligence | 28                    | 1                     | 1                     | 1                     | 1                     | 1                     | 1                     | ...                   | 0                     | 0                     | 0                     | 1                     | 1                     | 1                     | 1                     | 1                     | 12                    | 0                     | \n",
       "\n",
       "\n"
      ],
      "text/plain": [
       "  id jenis_kelamin divisi                umur May_21 May_22 May_23 May_24\n",
       "1 1  Laki-laki     Customer Service      34   1      1      1      1     \n",
       "2 2  Laki-laki     Data Engineer         26   1      1      1      1     \n",
       "3 3  Laki-laki     Software Engineer     28   1      1      1      1     \n",
       "4 4  Perempuan     Business Intelligence 21   1      1      1      1     \n",
       "5 5  Perempuan     Software Engineer     21   1      1      1      1     \n",
       "6 6  Laki-laki     Business Intelligence 28   1      1      1      1     \n",
       "  May_25 May_26 ... June_8 June_9 June_10 June_11 June_12 June_13 June_14\n",
       "1 1      0      ... 0      0      0       1       1       1       1      \n",
       "2 1      1      ... 0      0      1       1       1       1       1      \n",
       "3 1      1      ... 1      1      1       1       1       1       1      \n",
       "4 1      1      ... 0      1      1       1       1       1       1      \n",
       "5 1      1      ... 0      0      1       1       1       1       1      \n",
       "6 1      1      ... 0      0      0       1       1       1       1      \n",
       "  June_15 status.num.total status.total\n",
       "1 1       11               0           \n",
       "2 1       15               0           \n",
       "3 1       21               0           \n",
       "4 1       17               0           \n",
       "5 1       15               0           \n",
       "6 1       12               0           "
      ]
     },
     "metadata": {},
     "output_type": "display_data"
    }
   ],
   "source": [
    "head(data.mudik.final)"
   ]
  },
  {
   "cell_type": "markdown",
   "metadata": {},
   "source": [
    "<h2>Do the QUIZ</h2>"
   ]
  },
  {
   "cell_type": "markdown",
   "metadata": {},
   "source": [
    "<h3>1</h3>\n",
    "Karyawan dengan id berapa yang memiliki kesempatan untuk membawa makanan oleh-oleh khas Kartika Sari Bandung"
   ]
  },
  {
   "cell_type": "code",
   "execution_count": 82,
   "metadata": {},
   "outputs": [
    {
     "data": {
      "text/html": [
       "<table>\n",
       "<thead><tr><th scope=col>id</th><th scope=col>employee</th></tr></thead>\n",
       "<tbody>\n",
       "\t<tr><td>21</td><td>15</td></tr>\n",
       "\t<tr><td>32</td><td>13</td></tr>\n",
       "\t<tr><td>15</td><td> 9</td></tr>\n",
       "\t<tr><td>95</td><td> 7</td></tr>\n",
       "\t<tr><td>55</td><td> 5</td></tr>\n",
       "\t<tr><td> 5</td><td> 2</td></tr>\n",
       "</tbody>\n",
       "</table>\n"
      ],
      "text/latex": [
       "\\begin{tabular}{r|ll}\n",
       " id & employee\\\\\n",
       "\\hline\n",
       "\t 21 & 15\\\\\n",
       "\t 32 & 13\\\\\n",
       "\t 15 &  9\\\\\n",
       "\t 95 &  7\\\\\n",
       "\t 55 &  5\\\\\n",
       "\t  5 &  2\\\\\n",
       "\\end{tabular}\n"
      ],
      "text/markdown": [
       "\n",
       "id | employee | \n",
       "|---|---|---|---|---|---|\n",
       "| 21 | 15 | \n",
       "| 32 | 13 | \n",
       "| 15 |  9 | \n",
       "| 95 |  7 | \n",
       "| 55 |  5 | \n",
       "|  5 |  2 | \n",
       "\n",
       "\n"
      ],
      "text/plain": [
       "  id employee\n",
       "1 21 15      \n",
       "2 32 13      \n",
       "3 15  9      \n",
       "4 95  7      \n",
       "5 55  5      \n",
       "6  5  2      "
      ]
     },
     "metadata": {},
     "output_type": "display_data"
    },
    {
     "data": {
      "text/html": [
       "'The answer is: Employee with ID 21'"
      ],
      "text/latex": [
       "'The answer is: Employee with ID 21'"
      ],
      "text/markdown": [
       "'The answer is: Employee with ID 21'"
      ],
      "text/plain": [
       "[1] \"The answer is: Employee with ID 21\""
      ]
     },
     "metadata": {},
     "output_type": "display_data"
    }
   ],
   "source": [
    "data.location %>%\n",
    "    filter(\n",
    "        lokasi_dominan == 'Kota Bandung'\n",
    "    ) %>%\n",
    "    group_by(id) %>%\n",
    "    summarise(employee = n()) %>%\n",
    "    arrange(desc(employee)) %>%\n",
    "    head()\n",
    "paste('The answer is:',\n",
    "     'Employee with ID 21')"
   ]
  },
  {
   "cell_type": "markdown",
   "metadata": {},
   "source": [
    "<h3>2</h3>\n",
    "Dengan keadaan dimana salah satu divisi penting di perusahaan TokoLapak ini karyawannya mudik semua, apakah kegiatan jual beli di toko online ini akan tetap berjalan"
   ]
  },
  {
   "cell_type": "code",
   "execution_count": 83,
   "metadata": {},
   "outputs": [
    {
     "data": {
      "text/html": [
       "<table>\n",
       "<thead><tr><th scope=col>divisi</th><th scope=col>count</th><th scope=col>count.mudik</th><th scope=col>perc.mudik</th></tr></thead>\n",
       "<tbody>\n",
       "\t<tr><td>Software Engineer    </td><td>31                   </td><td>4                    </td><td>0.87                 </td></tr>\n",
       "\t<tr><td>Marketing            </td><td> 9                   </td><td>1                    </td><td>0.89                 </td></tr>\n",
       "\t<tr><td>Data Engineer        </td><td>14                   </td><td>1                    </td><td>0.93                 </td></tr>\n",
       "\t<tr><td>Business Intelligence</td><td>21                   </td><td>1                    </td><td>0.95                 </td></tr>\n",
       "\t<tr><td>Customer Service     </td><td>15                   </td><td>0                    </td><td>1.00                 </td></tr>\n",
       "\t<tr><td>Data Science         </td><td>10                   </td><td>0                    </td><td>1.00                 </td></tr>\n",
       "</tbody>\n",
       "</table>\n"
      ],
      "text/latex": [
       "\\begin{tabular}{r|llll}\n",
       " divisi & count & count.mudik & perc.mudik\\\\\n",
       "\\hline\n",
       "\t Software Engineer     & 31                    & 4                     & 0.87                 \\\\\n",
       "\t Marketing             &  9                    & 1                     & 0.89                 \\\\\n",
       "\t Data Engineer         & 14                    & 1                     & 0.93                 \\\\\n",
       "\t Business Intelligence & 21                    & 1                     & 0.95                 \\\\\n",
       "\t Customer Service      & 15                    & 0                     & 1.00                 \\\\\n",
       "\t Data Science          & 10                    & 0                     & 1.00                 \\\\\n",
       "\\end{tabular}\n"
      ],
      "text/markdown": [
       "\n",
       "divisi | count | count.mudik | perc.mudik | \n",
       "|---|---|---|---|---|---|\n",
       "| Software Engineer     | 31                    | 4                     | 0.87                  | \n",
       "| Marketing             |  9                    | 1                     | 0.89                  | \n",
       "| Data Engineer         | 14                    | 1                     | 0.93                  | \n",
       "| Business Intelligence | 21                    | 1                     | 0.95                  | \n",
       "| Customer Service      | 15                    | 0                     | 1.00                  | \n",
       "| Data Science          | 10                    | 0                     | 1.00                  | \n",
       "\n",
       "\n"
      ],
      "text/plain": [
       "  divisi                count count.mudik perc.mudik\n",
       "1 Software Engineer     31    4           0.87      \n",
       "2 Marketing              9    1           0.89      \n",
       "3 Data Engineer         14    1           0.93      \n",
       "4 Business Intelligence 21    1           0.95      \n",
       "5 Customer Service      15    0           1.00      \n",
       "6 Data Science          10    0           1.00      "
      ]
     },
     "metadata": {},
     "output_type": "display_data"
    },
    {
     "data": {
      "text/html": [
       "'The answer is: Tidak berjalan alias libur dulu selama lebaran'"
      ],
      "text/latex": [
       "'The answer is: Tidak berjalan alias libur dulu selama lebaran'"
      ],
      "text/markdown": [
       "'The answer is: Tidak berjalan alias libur dulu selama lebaran'"
      ],
      "text/plain": [
       "[1] \"The answer is: Tidak berjalan alias libur dulu selama lebaran\""
      ]
     },
     "metadata": {},
     "output_type": "display_data"
    }
   ],
   "source": [
    "data.mudik.final %>%\n",
    "    group_by(\n",
    "        divisi\n",
    "    ) %>%\n",
    "    summarise(\n",
    "        count = n(),\n",
    "        count.mudik = sum(status.total),\n",
    "        perc.mudik = 1-round(x = count.mudik/count,\n",
    "                             digits = 2)\n",
    "    ) %>%\n",
    "    arrange(perc.mudik)\n",
    "paste('The answer is:',\n",
    "     'Tidak berjalan alias libur dulu selama lebaran')"
   ]
  },
  {
   "cell_type": "markdown",
   "metadata": {},
   "source": [
    "<h3>3</h3>\n",
    "Divisi apa yang karyawannya paling banyak melakukan mudik"
   ]
  },
  {
   "cell_type": "code",
   "execution_count": 84,
   "metadata": {},
   "outputs": [
    {
     "data": {
      "text/html": [
       "<table>\n",
       "<thead><tr><th scope=col>divisi</th><th scope=col>count</th><th scope=col>count.no.mudik</th><th scope=col>perc.no.mudik</th></tr></thead>\n",
       "<tbody>\n",
       "\t<tr><td>Software Engineer    </td><td>31                   </td><td>4                    </td><td>0.13                 </td></tr>\n",
       "\t<tr><td>Marketing            </td><td> 9                   </td><td>1                    </td><td>0.11                 </td></tr>\n",
       "\t<tr><td>Data Engineer        </td><td>14                   </td><td>1                    </td><td>0.07                 </td></tr>\n",
       "\t<tr><td>Business Intelligence</td><td>21                   </td><td>1                    </td><td>0.05                 </td></tr>\n",
       "\t<tr><td>Customer Service     </td><td>15                   </td><td>0                    </td><td>0.00                 </td></tr>\n",
       "\t<tr><td>Data Science         </td><td>10                   </td><td>0                    </td><td>0.00                 </td></tr>\n",
       "</tbody>\n",
       "</table>\n"
      ],
      "text/latex": [
       "\\begin{tabular}{r|llll}\n",
       " divisi & count & count.no.mudik & perc.no.mudik\\\\\n",
       "\\hline\n",
       "\t Software Engineer     & 31                    & 4                     & 0.13                 \\\\\n",
       "\t Marketing             &  9                    & 1                     & 0.11                 \\\\\n",
       "\t Data Engineer         & 14                    & 1                     & 0.07                 \\\\\n",
       "\t Business Intelligence & 21                    & 1                     & 0.05                 \\\\\n",
       "\t Customer Service      & 15                    & 0                     & 0.00                 \\\\\n",
       "\t Data Science          & 10                    & 0                     & 0.00                 \\\\\n",
       "\\end{tabular}\n"
      ],
      "text/markdown": [
       "\n",
       "divisi | count | count.no.mudik | perc.no.mudik | \n",
       "|---|---|---|---|---|---|\n",
       "| Software Engineer     | 31                    | 4                     | 0.13                  | \n",
       "| Marketing             |  9                    | 1                     | 0.11                  | \n",
       "| Data Engineer         | 14                    | 1                     | 0.07                  | \n",
       "| Business Intelligence | 21                    | 1                     | 0.05                  | \n",
       "| Customer Service      | 15                    | 0                     | 0.00                  | \n",
       "| Data Science          | 10                    | 0                     | 0.00                  | \n",
       "\n",
       "\n"
      ],
      "text/plain": [
       "  divisi                count count.no.mudik perc.no.mudik\n",
       "1 Software Engineer     31    4              0.13         \n",
       "2 Marketing              9    1              0.11         \n",
       "3 Data Engineer         14    1              0.07         \n",
       "4 Business Intelligence 21    1              0.05         \n",
       "5 Customer Service      15    0              0.00         \n",
       "6 Data Science          10    0              0.00         "
      ]
     },
     "metadata": {},
     "output_type": "display_data"
    },
    {
     "data": {
      "text/html": [
       "'The answer is: Software Engineer'"
      ],
      "text/latex": [
       "'The answer is: Software Engineer'"
      ],
      "text/markdown": [
       "'The answer is: Software Engineer'"
      ],
      "text/plain": [
       "[1] \"The answer is: Software Engineer\""
      ]
     },
     "metadata": {},
     "output_type": "display_data"
    }
   ],
   "source": [
    "data.mudik.final %>%\n",
    "    group_by(\n",
    "        divisi\n",
    "    ) %>%\n",
    "    summarise(\n",
    "        count = n(),\n",
    "        count.no.mudik = sum(status.total),\n",
    "        perc.no.mudik = round(x = count.no.mudik/count,\n",
    "                        digits = 2)\n",
    "    ) %>%\n",
    "    arrange(desc(perc.no.mudik))\n",
    "paste('The answer is:',\n",
    "     'Software Engineer')"
   ]
  },
  {
   "cell_type": "markdown",
   "metadata": {},
   "source": [
    "<h3>4</h3>\n",
    "Berapakah umur termuda dari karyawan yang tergabung di divisi Data Science"
   ]
  },
  {
   "cell_type": "code",
   "execution_count": 85,
   "metadata": {},
   "outputs": [
    {
     "data": {
      "text/html": [
       "<table>\n",
       "<thead><tr><th scope=col>divisi</th><th scope=col>minimum.age</th></tr></thead>\n",
       "<tbody>\n",
       "\t<tr><td>Marketing            </td><td>24                   </td></tr>\n",
       "\t<tr><td>Data Engineer        </td><td>23                   </td></tr>\n",
       "\t<tr><td>Customer Service     </td><td>22                   </td></tr>\n",
       "\t<tr><td>Business Intelligence</td><td>21                   </td></tr>\n",
       "\t<tr><td>Data Science         </td><td>21                   </td></tr>\n",
       "\t<tr><td>Software Engineer    </td><td>21                   </td></tr>\n",
       "</tbody>\n",
       "</table>\n"
      ],
      "text/latex": [
       "\\begin{tabular}{r|ll}\n",
       " divisi & minimum.age\\\\\n",
       "\\hline\n",
       "\t Marketing             & 24                   \\\\\n",
       "\t Data Engineer         & 23                   \\\\\n",
       "\t Customer Service      & 22                   \\\\\n",
       "\t Business Intelligence & 21                   \\\\\n",
       "\t Data Science          & 21                   \\\\\n",
       "\t Software Engineer     & 21                   \\\\\n",
       "\\end{tabular}\n"
      ],
      "text/markdown": [
       "\n",
       "divisi | minimum.age | \n",
       "|---|---|---|---|---|---|\n",
       "| Marketing             | 24                    | \n",
       "| Data Engineer         | 23                    | \n",
       "| Customer Service      | 22                    | \n",
       "| Business Intelligence | 21                    | \n",
       "| Data Science          | 21                    | \n",
       "| Software Engineer     | 21                    | \n",
       "\n",
       "\n"
      ],
      "text/plain": [
       "  divisi                minimum.age\n",
       "1 Marketing             24         \n",
       "2 Data Engineer         23         \n",
       "3 Customer Service      22         \n",
       "4 Business Intelligence 21         \n",
       "5 Data Science          21         \n",
       "6 Software Engineer     21         "
      ]
     },
     "metadata": {},
     "output_type": "display_data"
    },
    {
     "data": {
      "text/html": [
       "'The answer is: 21 Years old'"
      ],
      "text/latex": [
       "'The answer is: 21 Years old'"
      ],
      "text/markdown": [
       "'The answer is: 21 Years old'"
      ],
      "text/plain": [
       "[1] \"The answer is: 21 Years old\""
      ]
     },
     "metadata": {},
     "output_type": "display_data"
    }
   ],
   "source": [
    "data.final %>%\n",
    "    group_by(\n",
    "        divisi\n",
    "    ) %>%\n",
    "    summarise(\n",
    "        minimum.age = min(umur)\n",
    "    ) %>%\n",
    "    arrange(desc(minimum.age))\n",
    "paste('The answer is:',\n",
    "     '21 Years old')"
   ]
  },
  {
   "cell_type": "markdown",
   "metadata": {},
   "source": [
    "<h3>5</h3>\n",
    "Divisi yang semua anggotanya mudik"
   ]
  },
  {
   "cell_type": "code",
   "execution_count": 86,
   "metadata": {},
   "outputs": [
    {
     "data": {
      "text/html": [
       "<table>\n",
       "<thead><tr><th scope=col>divisi</th><th scope=col>count</th><th scope=col>count.mudik</th><th scope=col>perc.mudik</th></tr></thead>\n",
       "<tbody>\n",
       "\t<tr><td>Software Engineer    </td><td>31                   </td><td>4                    </td><td>0.87                 </td></tr>\n",
       "\t<tr><td>Marketing            </td><td> 9                   </td><td>1                    </td><td>0.89                 </td></tr>\n",
       "\t<tr><td>Data Engineer        </td><td>14                   </td><td>1                    </td><td>0.93                 </td></tr>\n",
       "\t<tr><td>Business Intelligence</td><td>21                   </td><td>1                    </td><td>0.95                 </td></tr>\n",
       "\t<tr><td>Customer Service     </td><td>15                   </td><td>0                    </td><td>1.00                 </td></tr>\n",
       "\t<tr><td>Data Science         </td><td>10                   </td><td>0                    </td><td>1.00                 </td></tr>\n",
       "</tbody>\n",
       "</table>\n"
      ],
      "text/latex": [
       "\\begin{tabular}{r|llll}\n",
       " divisi & count & count.mudik & perc.mudik\\\\\n",
       "\\hline\n",
       "\t Software Engineer     & 31                    & 4                     & 0.87                 \\\\\n",
       "\t Marketing             &  9                    & 1                     & 0.89                 \\\\\n",
       "\t Data Engineer         & 14                    & 1                     & 0.93                 \\\\\n",
       "\t Business Intelligence & 21                    & 1                     & 0.95                 \\\\\n",
       "\t Customer Service      & 15                    & 0                     & 1.00                 \\\\\n",
       "\t Data Science          & 10                    & 0                     & 1.00                 \\\\\n",
       "\\end{tabular}\n"
      ],
      "text/markdown": [
       "\n",
       "divisi | count | count.mudik | perc.mudik | \n",
       "|---|---|---|---|---|---|\n",
       "| Software Engineer     | 31                    | 4                     | 0.87                  | \n",
       "| Marketing             |  9                    | 1                     | 0.89                  | \n",
       "| Data Engineer         | 14                    | 1                     | 0.93                  | \n",
       "| Business Intelligence | 21                    | 1                     | 0.95                  | \n",
       "| Customer Service      | 15                    | 0                     | 1.00                  | \n",
       "| Data Science          | 10                    | 0                     | 1.00                  | \n",
       "\n",
       "\n"
      ],
      "text/plain": [
       "  divisi                count count.mudik perc.mudik\n",
       "1 Software Engineer     31    4           0.87      \n",
       "2 Marketing              9    1           0.89      \n",
       "3 Data Engineer         14    1           0.93      \n",
       "4 Business Intelligence 21    1           0.95      \n",
       "5 Customer Service      15    0           1.00      \n",
       "6 Data Science          10    0           1.00      "
      ]
     },
     "metadata": {},
     "output_type": "display_data"
    },
    {
     "data": {
      "text/html": [
       "'The answer is: Customer Service and Data Science'"
      ],
      "text/latex": [
       "'The answer is: Customer Service and Data Science'"
      ],
      "text/markdown": [
       "'The answer is: Customer Service and Data Science'"
      ],
      "text/plain": [
       "[1] \"The answer is: Customer Service and Data Science\""
      ]
     },
     "metadata": {},
     "output_type": "display_data"
    }
   ],
   "source": [
    "data.mudik.final %>%\n",
    "    group_by(\n",
    "        divisi\n",
    "    ) %>%\n",
    "    summarise(\n",
    "        count = n(),\n",
    "        count.mudik = sum(status.total),\n",
    "        perc.mudik = 1-round(x = count.mudik/count,\n",
    "                             digits = 2)\n",
    "    ) %>%\n",
    "    arrange(perc.mudik)\n",
    "paste('The answer is:',\n",
    "     'Customer Service and Data Science')"
   ]
  },
  {
   "cell_type": "markdown",
   "metadata": {},
   "source": [
    "<h3>6</h3>\n",
    "Berapakah jumlah karyawan yang mudik dan tergabung di divisi Data Science"
   ]
  },
  {
   "cell_type": "code",
   "execution_count": 87,
   "metadata": {},
   "outputs": [
    {
     "data": {
      "text/html": [
       "<table>\n",
       "<thead><tr><th scope=col>divisi</th><th scope=col>count</th></tr></thead>\n",
       "<tbody>\n",
       "\t<tr><td>Marketing            </td><td> 8                   </td></tr>\n",
       "\t<tr><td>Data Science         </td><td>10                   </td></tr>\n",
       "\t<tr><td>Data Engineer        </td><td>13                   </td></tr>\n",
       "\t<tr><td>Customer Service     </td><td>15                   </td></tr>\n",
       "\t<tr><td>Business Intelligence</td><td>20                   </td></tr>\n",
       "\t<tr><td>Software Engineer    </td><td>27                   </td></tr>\n",
       "</tbody>\n",
       "</table>\n"
      ],
      "text/latex": [
       "\\begin{tabular}{r|ll}\n",
       " divisi & count\\\\\n",
       "\\hline\n",
       "\t Marketing             &  8                   \\\\\n",
       "\t Data Science          & 10                   \\\\\n",
       "\t Data Engineer         & 13                   \\\\\n",
       "\t Customer Service      & 15                   \\\\\n",
       "\t Business Intelligence & 20                   \\\\\n",
       "\t Software Engineer     & 27                   \\\\\n",
       "\\end{tabular}\n"
      ],
      "text/markdown": [
       "\n",
       "divisi | count | \n",
       "|---|---|---|---|---|---|\n",
       "| Marketing             |  8                    | \n",
       "| Data Science          | 10                    | \n",
       "| Data Engineer         | 13                    | \n",
       "| Customer Service      | 15                    | \n",
       "| Business Intelligence | 20                    | \n",
       "| Software Engineer     | 27                    | \n",
       "\n",
       "\n"
      ],
      "text/plain": [
       "  divisi                count\n",
       "1 Marketing              8   \n",
       "2 Data Science          10   \n",
       "3 Data Engineer         13   \n",
       "4 Customer Service      15   \n",
       "5 Business Intelligence 20   \n",
       "6 Software Engineer     27   "
      ]
     },
     "metadata": {},
     "output_type": "display_data"
    },
    {
     "data": {
      "text/html": [
       "'The answer is: 10 employee'"
      ],
      "text/latex": [
       "'The answer is: 10 employee'"
      ],
      "text/markdown": [
       "'The answer is: 10 employee'"
      ],
      "text/plain": [
       "[1] \"The answer is: 10 employee\""
      ]
     },
     "metadata": {},
     "output_type": "display_data"
    }
   ],
   "source": [
    "data.mudik.final %>%\n",
    "    group_by(\n",
    "        divisi\n",
    "    ) %>%\n",
    "    filter(\n",
    "        status.total == 0 # Mudik\n",
    "    ) %>%\n",
    "    summarise(\n",
    "        count = n()\n",
    "    ) %>%\n",
    "    arrange(count)\n",
    "paste('The answer is:',\n",
    "     '10 employee')"
   ]
  },
  {
   "cell_type": "markdown",
   "metadata": {},
   "source": [
    "<h3>7</h3>\n",
    "Divisi yang jumlah pemudiknya paling sedikit"
   ]
  },
  {
   "cell_type": "code",
   "execution_count": 88,
   "metadata": {},
   "outputs": [
    {
     "data": {
      "text/html": [
       "<table>\n",
       "<thead><tr><th scope=col>divisi</th><th scope=col>count</th></tr></thead>\n",
       "<tbody>\n",
       "\t<tr><td>Marketing            </td><td> 8                   </td></tr>\n",
       "\t<tr><td>Data Science         </td><td>10                   </td></tr>\n",
       "\t<tr><td>Data Engineer        </td><td>13                   </td></tr>\n",
       "\t<tr><td>Customer Service     </td><td>15                   </td></tr>\n",
       "\t<tr><td>Business Intelligence</td><td>20                   </td></tr>\n",
       "\t<tr><td>Software Engineer    </td><td>27                   </td></tr>\n",
       "</tbody>\n",
       "</table>\n"
      ],
      "text/latex": [
       "\\begin{tabular}{r|ll}\n",
       " divisi & count\\\\\n",
       "\\hline\n",
       "\t Marketing             &  8                   \\\\\n",
       "\t Data Science          & 10                   \\\\\n",
       "\t Data Engineer         & 13                   \\\\\n",
       "\t Customer Service      & 15                   \\\\\n",
       "\t Business Intelligence & 20                   \\\\\n",
       "\t Software Engineer     & 27                   \\\\\n",
       "\\end{tabular}\n"
      ],
      "text/markdown": [
       "\n",
       "divisi | count | \n",
       "|---|---|---|---|---|---|\n",
       "| Marketing             |  8                    | \n",
       "| Data Science          | 10                    | \n",
       "| Data Engineer         | 13                    | \n",
       "| Customer Service      | 15                    | \n",
       "| Business Intelligence | 20                    | \n",
       "| Software Engineer     | 27                    | \n",
       "\n",
       "\n"
      ],
      "text/plain": [
       "  divisi                count\n",
       "1 Marketing              8   \n",
       "2 Data Science          10   \n",
       "3 Data Engineer         13   \n",
       "4 Customer Service      15   \n",
       "5 Business Intelligence 20   \n",
       "6 Software Engineer     27   "
      ]
     },
     "metadata": {},
     "output_type": "display_data"
    },
    {
     "data": {
      "text/html": [
       "'The answer is: Marketing'"
      ],
      "text/latex": [
       "'The answer is: Marketing'"
      ],
      "text/markdown": [
       "'The answer is: Marketing'"
      ],
      "text/plain": [
       "[1] \"The answer is: Marketing\""
      ]
     },
     "metadata": {},
     "output_type": "display_data"
    }
   ],
   "source": [
    "data.mudik.final %>%\n",
    "    group_by(\n",
    "        divisi\n",
    "    ) %>%\n",
    "    filter(\n",
    "        status.total == 0 # Mudik\n",
    "    ) %>%\n",
    "    summarise(\n",
    "        count = n()\n",
    "    ) %>%\n",
    "    arrange(count)\n",
    "paste('The answer is:',\n",
    "     'Marketing')"
   ]
  },
  {
   "cell_type": "markdown",
   "metadata": {},
   "source": [
    "<h3>8</h3>\n",
    "Berapakah umur karyawan paling senior yang tergabung di divisi Data Engineer"
   ]
  },
  {
   "cell_type": "code",
   "execution_count": 89,
   "metadata": {},
   "outputs": [
    {
     "data": {
      "text/html": [
       "<table>\n",
       "<thead><tr><th scope=col>divisi</th><th scope=col>minimum.age</th></tr></thead>\n",
       "<tbody>\n",
       "\t<tr><td>Business Intelligence</td><td>35                   </td></tr>\n",
       "\t<tr><td>Customer Service     </td><td>35                   </td></tr>\n",
       "\t<tr><td>Data Engineer        </td><td>35                   </td></tr>\n",
       "\t<tr><td>Data Science         </td><td>35                   </td></tr>\n",
       "\t<tr><td>Marketing            </td><td>35                   </td></tr>\n",
       "\t<tr><td>Software Engineer    </td><td>34                   </td></tr>\n",
       "</tbody>\n",
       "</table>\n"
      ],
      "text/latex": [
       "\\begin{tabular}{r|ll}\n",
       " divisi & minimum.age\\\\\n",
       "\\hline\n",
       "\t Business Intelligence & 35                   \\\\\n",
       "\t Customer Service      & 35                   \\\\\n",
       "\t Data Engineer         & 35                   \\\\\n",
       "\t Data Science          & 35                   \\\\\n",
       "\t Marketing             & 35                   \\\\\n",
       "\t Software Engineer     & 34                   \\\\\n",
       "\\end{tabular}\n"
      ],
      "text/markdown": [
       "\n",
       "divisi | minimum.age | \n",
       "|---|---|---|---|---|---|\n",
       "| Business Intelligence | 35                    | \n",
       "| Customer Service      | 35                    | \n",
       "| Data Engineer         | 35                    | \n",
       "| Data Science          | 35                    | \n",
       "| Marketing             | 35                    | \n",
       "| Software Engineer     | 34                    | \n",
       "\n",
       "\n"
      ],
      "text/plain": [
       "  divisi                minimum.age\n",
       "1 Business Intelligence 35         \n",
       "2 Customer Service      35         \n",
       "3 Data Engineer         35         \n",
       "4 Data Science          35         \n",
       "5 Marketing             35         \n",
       "6 Software Engineer     34         "
      ]
     },
     "metadata": {},
     "output_type": "display_data"
    },
    {
     "data": {
      "text/html": [
       "'The answer is: 35 Years old'"
      ],
      "text/latex": [
       "'The answer is: 35 Years old'"
      ],
      "text/markdown": [
       "'The answer is: 35 Years old'"
      ],
      "text/plain": [
       "[1] \"The answer is: 35 Years old\""
      ]
     },
     "metadata": {},
     "output_type": "display_data"
    }
   ],
   "source": [
    "data.final %>%\n",
    "    group_by(\n",
    "        divisi\n",
    "    ) %>%\n",
    "    summarise(\n",
    "        minimum.age = max(umur)\n",
    "    ) %>%\n",
    "    arrange(desc(minimum.age))\n",
    "paste('The answer is:',\n",
    "     '35 Years old')"
   ]
  },
  {
   "cell_type": "markdown",
   "metadata": {},
   "source": [
    "<h3>9</h3>\n",
    "Karyawan yang memiliki waktu mudik paling lama (perkiraan 20 hari)"
   ]
  },
  {
   "cell_type": "code",
   "execution_count": 90,
   "metadata": {},
   "outputs": [
    {
     "data": {
      "text/html": [
       "<table>\n",
       "<thead><tr><th scope=col>id</th><th scope=col>status.num.total</th><th scope=col>duration</th></tr></thead>\n",
       "<tbody>\n",
       "\t<tr><td>10</td><td> 6</td><td>20</td></tr>\n",
       "\t<tr><td> 1</td><td>11</td><td>15</td></tr>\n",
       "\t<tr><td>17</td><td>11</td><td>15</td></tr>\n",
       "\t<tr><td>20</td><td>11</td><td>15</td></tr>\n",
       "\t<tr><td>21</td><td>11</td><td>15</td></tr>\n",
       "\t<tr><td>23</td><td>11</td><td>15</td></tr>\n",
       "</tbody>\n",
       "</table>\n"
      ],
      "text/latex": [
       "\\begin{tabular}{r|lll}\n",
       " id & status.num.total & duration\\\\\n",
       "\\hline\n",
       "\t 10 &  6 & 20\\\\\n",
       "\t  1 & 11 & 15\\\\\n",
       "\t 17 & 11 & 15\\\\\n",
       "\t 20 & 11 & 15\\\\\n",
       "\t 21 & 11 & 15\\\\\n",
       "\t 23 & 11 & 15\\\\\n",
       "\\end{tabular}\n"
      ],
      "text/markdown": [
       "\n",
       "id | status.num.total | duration | \n",
       "|---|---|---|---|---|---|\n",
       "| 10 |  6 | 20 | \n",
       "|  1 | 11 | 15 | \n",
       "| 17 | 11 | 15 | \n",
       "| 20 | 11 | 15 | \n",
       "| 21 | 11 | 15 | \n",
       "| 23 | 11 | 15 | \n",
       "\n",
       "\n"
      ],
      "text/plain": [
       "  id status.num.total duration\n",
       "1 10  6               20      \n",
       "2  1 11               15      \n",
       "3 17 11               15      \n",
       "4 20 11               15      \n",
       "5 21 11               15      \n",
       "6 23 11               15      "
      ]
     },
     "metadata": {},
     "output_type": "display_data"
    },
    {
     "data": {
      "text/html": [
       "'The answer is: Employee with ID 10'"
      ],
      "text/latex": [
       "'The answer is: Employee with ID 10'"
      ],
      "text/markdown": [
       "'The answer is: Employee with ID 10'"
      ],
      "text/plain": [
       "[1] \"The answer is: Employee with ID 10\""
      ]
     },
     "metadata": {},
     "output_type": "display_data"
    }
   ],
   "source": [
    "data.mudik.final %>%\n",
    "    select(\n",
    "        id,\n",
    "        status.num.total\n",
    "    ) %>%\n",
    "    mutate(\n",
    "        duration = 26-status.num.total\n",
    "    ) %>%\n",
    "    arrange(desc(duration)) %>%\n",
    "head()\n",
    "paste('The answer is:',\n",
    "     'Employee with ID 10')"
   ]
  },
  {
   "cell_type": "markdown",
   "metadata": {},
   "source": [
    "<h3>10</h3>\n",
    "Berapa persen dari karyawan di TokoLapak yang pulang ke Jabodetabek pada tanggal 9 Juni"
   ]
  },
  {
   "cell_type": "code",
   "execution_count": 91,
   "metadata": {},
   "outputs": [
    {
     "data": {
      "text/html": [
       "'The answer is: 0.49'"
      ],
      "text/latex": [
       "'The answer is: 0.49'"
      ],
      "text/markdown": [
       "'The answer is: 0.49'"
      ],
      "text/plain": [
       "[1] \"The answer is: 0.49\""
      ]
     },
     "metadata": {},
     "output_type": "display_data"
    }
   ],
   "source": [
    "index.case.10 = which(data.mudik.final[,'June_8'] == 0 &\n",
    "                      data.mudik.final[,'June_9'] == 1)\n",
    "case.10 = data.mudik.final[index.case.10,]\n",
    "perc.case.10 = dim(case.10)[1]/dim(data.mudik.final)[1]\n",
    "paste('The answer is:',\n",
    "     perc.case.10)"
   ]
  },
  {
   "cell_type": "markdown",
   "metadata": {},
   "source": [
    "<h3>11</h3>\n",
    "Berapa karyawan yang melakukan mudik pada tanggal 30 Mei"
   ]
  },
  {
   "cell_type": "code",
   "execution_count": 92,
   "metadata": {},
   "outputs": [
    {
     "data": {
      "text/html": [
       "'The answer is: 15'"
      ],
      "text/latex": [
       "'The answer is: 15'"
      ],
      "text/markdown": [
       "'The answer is: 15'"
      ],
      "text/plain": [
       "[1] \"The answer is: 15\""
      ]
     },
     "metadata": {},
     "output_type": "display_data"
    }
   ],
   "source": [
    "index.case.11 = which(data.mudik.final[,'May_30'] == 0 &\n",
    "                      data.mudik.final[,'May_29'] == 1)\n",
    "case.11 = data.mudik.final[index.case.11,]\n",
    "perc.case.11 = dim(case.11)[1]\n",
    "paste('The answer is:',\n",
    "     perc.case.11)"
   ]
  },
  {
   "cell_type": "markdown",
   "metadata": {},
   "source": [
    "<h3>12</h3>\n",
    "Kabupaten atau kota manakah yang menjadi tujuan mudik terbanyak"
   ]
  },
  {
   "cell_type": "code",
   "execution_count": 93,
   "metadata": {},
   "outputs": [
    {
     "name": "stdout",
     "output_type": "stream",
     "text": [
      " Factor w/ 28 levels \"Jakarta Barat\",..: 2 8 2 26 19 19 20 20 19 4 ...\n"
     ]
    },
    {
     "data": {
      "text/html": [
       "1707"
      ],
      "text/latex": [
       "1707"
      ],
      "text/markdown": [
       "1707"
      ],
      "text/plain": [
       "[1] 1707"
      ]
     },
     "metadata": {},
     "output_type": "display_data"
    },
    {
     "data": {
      "text/plain": [
       "\n",
       "         Kabupaten Sleman           Kota Yogyakarta                Kota Medan \n",
       "                      120                       117                        85 \n",
       "              Kota Padang        Kabupaten Wonogiri          Kabupaten Bantul \n",
       "                       81                        71                        68 \n",
       "Kabupaten Lampung Selatan       Kota Bandar Lampung              Kota Bandung \n",
       "                       61                        58                        54 \n",
       "            Kota Surabaya             Kota Semarang     Kabupaten Tasikmalaya \n",
       "                       52                        41                        35 \n",
       "              Kota Manado           Kota Banda Aceh         Kabupaten Kebumen \n",
       "                       33                        10                         7 "
      ]
     },
     "metadata": {},
     "output_type": "display_data"
    },
    {
     "data": {
      "text/html": [
       "'The answer is: Kabupten Sleman'"
      ],
      "text/latex": [
       "'The answer is: Kabupten Sleman'"
      ],
      "text/markdown": [
       "'The answer is: Kabupten Sleman'"
      ],
      "text/plain": [
       "[1] \"The answer is: Kabupten Sleman\""
      ]
     },
     "metadata": {},
     "output_type": "display_data"
    }
   ],
   "source": [
    "str(data.location$lokasi_dominan)\n",
    "data.location$lokasi_dominan = as.character(data.location$lokasi_dominan)\n",
    "index.case.12 = which(as.character(data.location$lokasi_dominan) %in% cities.jabodetabek)\n",
    "length(index.case.12)\n",
    "sort(table(data.location[-index.case.12,'lokasi_dominan']),\n",
    "     decreasing = TRUE)\n",
    "paste('The answer is:',\n",
    "     'Kabupten Sleman')"
   ]
  },
  {
   "cell_type": "markdown",
   "metadata": {},
   "source": [
    "<h3>13</h3>\n",
    "Karyawan dengan ID berapakah yang memiliki kesempatan untuk mengunjungi Pantai Karang Bolong Kebumen"
   ]
  },
  {
   "cell_type": "code",
   "execution_count": 94,
   "metadata": {},
   "outputs": [
    {
     "data": {
      "text/html": [
       "<table>\n",
       "<thead><tr><th scope=col>id</th><th scope=col>tanggal</th><th scope=col>lokasi_dominan</th></tr></thead>\n",
       "<tbody>\n",
       "\t<tr><td>18               </td><td>02/06/19         </td><td>Kabupaten Kebumen</td></tr>\n",
       "\t<tr><td>28               </td><td>03/06/19         </td><td>Kabupaten Kebumen</td></tr>\n",
       "\t<tr><td>28               </td><td>04/06/19         </td><td>Kabupaten Kebumen</td></tr>\n",
       "\t<tr><td>28               </td><td>05/06/19         </td><td>Kabupaten Kebumen</td></tr>\n",
       "\t<tr><td>28               </td><td>06/06/19         </td><td>Kabupaten Kebumen</td></tr>\n",
       "\t<tr><td>28               </td><td>07/06/19         </td><td>Kabupaten Kebumen</td></tr>\n",
       "\t<tr><td>18               </td><td>08/06/19         </td><td>Kabupaten Kebumen</td></tr>\n",
       "</tbody>\n",
       "</table>\n"
      ],
      "text/latex": [
       "\\begin{tabular}{r|lll}\n",
       " id & tanggal & lokasi\\_dominan\\\\\n",
       "\\hline\n",
       "\t 18                & 02/06/19          & Kabupaten Kebumen\\\\\n",
       "\t 28                & 03/06/19          & Kabupaten Kebumen\\\\\n",
       "\t 28                & 04/06/19          & Kabupaten Kebumen\\\\\n",
       "\t 28                & 05/06/19          & Kabupaten Kebumen\\\\\n",
       "\t 28                & 06/06/19          & Kabupaten Kebumen\\\\\n",
       "\t 28                & 07/06/19          & Kabupaten Kebumen\\\\\n",
       "\t 18                & 08/06/19          & Kabupaten Kebumen\\\\\n",
       "\\end{tabular}\n"
      ],
      "text/markdown": [
       "\n",
       "id | tanggal | lokasi_dominan | \n",
       "|---|---|---|---|---|---|---|\n",
       "| 18                | 02/06/19          | Kabupaten Kebumen | \n",
       "| 28                | 03/06/19          | Kabupaten Kebumen | \n",
       "| 28                | 04/06/19          | Kabupaten Kebumen | \n",
       "| 28                | 05/06/19          | Kabupaten Kebumen | \n",
       "| 28                | 06/06/19          | Kabupaten Kebumen | \n",
       "| 28                | 07/06/19          | Kabupaten Kebumen | \n",
       "| 18                | 08/06/19          | Kabupaten Kebumen | \n",
       "\n",
       "\n"
      ],
      "text/plain": [
       "  id tanggal  lokasi_dominan   \n",
       "1 18 02/06/19 Kabupaten Kebumen\n",
       "2 28 03/06/19 Kabupaten Kebumen\n",
       "3 28 04/06/19 Kabupaten Kebumen\n",
       "4 28 05/06/19 Kabupaten Kebumen\n",
       "5 28 06/06/19 Kabupaten Kebumen\n",
       "6 28 07/06/19 Kabupaten Kebumen\n",
       "7 18 08/06/19 Kabupaten Kebumen"
      ]
     },
     "metadata": {},
     "output_type": "display_data"
    },
    {
     "data": {
      "text/html": [
       "'The answer is: Employee with ID 18'"
      ],
      "text/latex": [
       "'The answer is: Employee with ID 18'"
      ],
      "text/markdown": [
       "'The answer is: Employee with ID 18'"
      ],
      "text/plain": [
       "[1] \"The answer is: Employee with ID 18\""
      ]
     },
     "metadata": {},
     "output_type": "display_data"
    }
   ],
   "source": [
    "data.location %>%\n",
    "    filter(lokasi_dominan == 'Kabupaten Kebumen')\n",
    "paste('The answer is:',\n",
    "      'Employee with ID 18')"
   ]
  },
  {
   "cell_type": "markdown",
   "metadata": {},
   "source": [
    "<h3>14</h3>\n",
    "Di hari apakah yang menjadi hari favorit (paling banyak) karyawan TokoLapak melakukan mudik? Asumsikan waktu yang dibutuhkan untuk mudik kurang dari 1 hari dan apabila dia mulai berada di luar Jabodetabek pada hari tersebut, maka hari tersebutlah yang menjadi lokasi dominan seseorang mudik"
   ]
  },
  {
   "cell_type": "code",
   "execution_count": 95,
   "metadata": {},
   "outputs": [
    {
     "data": {
      "text/html": [
       "<table>\n",
       "<thead><tr><th scope=col>count</th><th scope=col>lag.one</th><th scope=col>date</th><th scope=col>count.of.mudik</th></tr></thead>\n",
       "<tbody>\n",
       "\t<tr><td>42    </td><td>66    </td><td>May_31</td><td>24    </td></tr>\n",
       "\t<tr><td>66    </td><td>81    </td><td>May_30</td><td>15    </td></tr>\n",
       "\t<tr><td>27    </td><td>42    </td><td>June_1</td><td>15    </td></tr>\n",
       "\t<tr><td>81    </td><td>91    </td><td>May_29</td><td>10    </td></tr>\n",
       "\t<tr><td>17    </td><td>27    </td><td>June_2</td><td>10    </td></tr>\n",
       "\t<tr><td> 7    </td><td>17    </td><td>June_3</td><td>10    </td></tr>\n",
       "</tbody>\n",
       "</table>\n"
      ],
      "text/latex": [
       "\\begin{tabular}{r|llll}\n",
       " count & lag.one & date & count.of.mudik\\\\\n",
       "\\hline\n",
       "\t 42       & 66       & May\\_31 & 24      \\\\\n",
       "\t 66       & 81       & May\\_30 & 15      \\\\\n",
       "\t 27       & 42       & June\\_1 & 15      \\\\\n",
       "\t 81       & 91       & May\\_29 & 10      \\\\\n",
       "\t 17       & 27       & June\\_2 & 10      \\\\\n",
       "\t  7       & 17       & June\\_3 & 10      \\\\\n",
       "\\end{tabular}\n"
      ],
      "text/markdown": [
       "\n",
       "count | lag.one | date | count.of.mudik | \n",
       "|---|---|---|---|---|---|\n",
       "| 42     | 66     | May_31 | 24     | \n",
       "| 66     | 81     | May_30 | 15     | \n",
       "| 27     | 42     | June_1 | 15     | \n",
       "| 81     | 91     | May_29 | 10     | \n",
       "| 17     | 27     | June_2 | 10     | \n",
       "|  7     | 17     | June_3 | 10     | \n",
       "\n",
       "\n"
      ],
      "text/plain": [
       "  count lag.one date   count.of.mudik\n",
       "1 42    66      May_31 24            \n",
       "2 66    81      May_30 15            \n",
       "3 27    42      June_1 15            \n",
       "4 81    91      May_29 10            \n",
       "5 17    27      June_2 10            \n",
       "6  7    17      June_3 10            "
      ]
     },
     "metadata": {},
     "output_type": "display_data"
    },
    {
     "data": {
      "text/html": [
       "'The answer is: 31st of May'"
      ],
      "text/latex": [
       "'The answer is: 31st of May'"
      ],
      "text/markdown": [
       "'The answer is: 31st of May'"
      ],
      "text/plain": [
       "[1] \"The answer is: 31st of May\""
      ]
     },
     "metadata": {},
     "output_type": "display_data"
    }
   ],
   "source": [
    "data.transport = as.data.frame(colSums(data.mudik.final[,5:(dim(data.mudik.final)[2]-2)]))\n",
    "colnames(data.transport) = c('count')\n",
    "\n",
    "# Count of employees who have 'mudik'\n",
    "lag.one = cbind(0,\n",
    "             t(data.transport[,]))\n",
    "lag.one = lag.one[-length(lag.one)] # Erase last element in vector move\n",
    "data.transport = data.frame(data.transport,\n",
    "                            lag.one)\n",
    "data.transport %>%\n",
    "    mutate(\n",
    "        date = rownames(data.transport),\n",
    "        count.of.mudik = lag.one - count\n",
    "    ) %>%\n",
    "    arrange(desc(count.of.mudik)) %>%    \n",
    "    head()\n",
    "paste('The answer is:',\n",
    "      '31st of May')"
   ]
  },
  {
   "cell_type": "markdown",
   "metadata": {},
   "source": [
    "<h3>15</h3>\n",
    "Berapa banyak karyawan TokoLapak yang melakukan mudik lebaran 2019?\n",
    "Catatan diasumsikan bahwa karyawan yang melakukan mudik adalah karyawan yang tidak berada di Jabodetabek pada hari lebaran tanggal 5 Juni 2019"
   ]
  },
  {
   "cell_type": "code",
   "execution_count": 96,
   "metadata": {},
   "outputs": [
    {
     "data": {
      "text/html": [
       "'The answer is: 91 Employees'"
      ],
      "text/latex": [
       "'The answer is: 91 Employees'"
      ],
      "text/markdown": [
       "'The answer is: 91 Employees'"
      ],
      "text/plain": [
       "[1] \"The answer is: 91 Employees\""
      ]
     },
     "metadata": {},
     "output_type": "display_data"
    }
   ],
   "source": [
    "case.15 = 100 - sum(data.mudik.final$June_5)\n",
    "paste('The answer is:',\n",
    "      case.15,\n",
    "      'Employees')"
   ]
  },
  {
   "cell_type": "markdown",
   "metadata": {},
   "source": [
    "<h3>16</h3>\n",
    "Berapa banyak karyawan yang dapat dititipi oleh-oleh Lapis Legit Dzulaikha langsung dari tokonya"
   ]
  },
  {
   "cell_type": "code",
   "execution_count": 97,
   "metadata": {},
   "outputs": [
    {
     "data": {
      "text/html": [
       "<table>\n",
       "<thead><tr><th scope=col>lokasi_dominan</th><th scope=col>employee</th></tr></thead>\n",
       "<tbody>\n",
       "\t<tr><td>Kota Medan</td><td>12        </td></tr>\n",
       "</tbody>\n",
       "</table>\n"
      ],
      "text/latex": [
       "\\begin{tabular}{r|ll}\n",
       " lokasi\\_dominan & employee\\\\\n",
       "\\hline\n",
       "\t Kota Medan & 12        \\\\\n",
       "\\end{tabular}\n"
      ],
      "text/markdown": [
       "\n",
       "lokasi_dominan | employee | \n",
       "|---|\n",
       "| Kota Medan | 12         | \n",
       "\n",
       "\n"
      ],
      "text/plain": [
       "  lokasi_dominan employee\n",
       "1 Kota Medan     12      "
      ]
     },
     "metadata": {},
     "output_type": "display_data"
    },
    {
     "data": {
      "text/html": [
       "<span style=white-space:pre-wrap>'The answer is:  12 Employees'</span>"
      ],
      "text/latex": [
       "'The answer is:  12 Employees'"
      ],
      "text/markdown": [
       "<span style=white-space:pre-wrap>'The answer is:  12 Employees'</span>"
      ],
      "text/plain": [
       "[1] \"The answer is:  12 Employees\""
      ]
     },
     "metadata": {},
     "output_type": "display_data"
    }
   ],
   "source": [
    "data.location %>%\n",
    "    group_by(lokasi_dominan) %>%\n",
    "    summarise(\n",
    "        employee = n_distinct(id)\n",
    "    ) %>%\n",
    "    filter(\n",
    "        lokasi_dominan == 'Kota Medan'\n",
    "    )\n",
    "paste('The answer is:',\n",
    "      ' 12 Employees')"
   ]
  },
  {
   "cell_type": "markdown",
   "metadata": {},
   "source": [
    "<h3>17</h3>\n",
    "Kota atau kabupaten yang menjadi tujuan mudik paling sedikit"
   ]
  },
  {
   "cell_type": "code",
   "execution_count": 98,
   "metadata": {},
   "outputs": [
    {
     "name": "stdout",
     "output_type": "stream",
     "text": [
      " chr [1:2600] \"Jakarta Pusat\" \"Kabupaten Bogor\" \"Jakarta Pusat\" ...\n"
     ]
    },
    {
     "data": {
      "text/html": [
       "1707"
      ],
      "text/latex": [
       "1707"
      ],
      "text/markdown": [
       "1707"
      ],
      "text/plain": [
       "[1] 1707"
      ]
     },
     "metadata": {},
     "output_type": "display_data"
    },
    {
     "data": {
      "text/plain": [
       "\n",
       "        Kabupaten Kebumen           Kota Banda Aceh               Kota Manado \n",
       "                        7                        10                        33 \n",
       "    Kabupaten Tasikmalaya             Kota Semarang             Kota Surabaya \n",
       "                       35                        41                        52 \n",
       "             Kota Bandung       Kota Bandar Lampung Kabupaten Lampung Selatan \n",
       "                       54                        58                        61 \n",
       "         Kabupaten Bantul        Kabupaten Wonogiri               Kota Padang \n",
       "                       68                        71                        81 \n",
       "               Kota Medan           Kota Yogyakarta          Kabupaten Sleman \n",
       "                       85                       117                       120 "
      ]
     },
     "metadata": {},
     "output_type": "display_data"
    },
    {
     "data": {
      "text/html": [
       "'The answer is: Kabupten Kebumen'"
      ],
      "text/latex": [
       "'The answer is: Kabupten Kebumen'"
      ],
      "text/markdown": [
       "'The answer is: Kabupten Kebumen'"
      ],
      "text/plain": [
       "[1] \"The answer is: Kabupten Kebumen\""
      ]
     },
     "metadata": {},
     "output_type": "display_data"
    }
   ],
   "source": [
    "str(data.location$lokasi_dominan)\n",
    "data.location$lokasi_dominan = as.character(data.location$lokasi_dominan)\n",
    "index.case.12 = which(as.character(data.location$lokasi_dominan) %in% cities.jabodetabek)\n",
    "length(index.case.12)\n",
    "sort(table(data.location[-index.case.12,'lokasi_dominan']),\n",
    "     decreasing = FALSE)\n",
    "paste('The answer is:',\n",
    "     'Kabupten Kebumen')"
   ]
  },
  {
   "cell_type": "markdown",
   "metadata": {},
   "source": [
    "<h3>18</h3>\n",
    "Berapa jumlah karyawan yang kemungkinan besar menyempatkan untuk berwisata ke Keraton Yogyakarta, Pantai Parangtritis, atau wisata Kaliurang selama masa mudiknya?\n",
    "Asumsi karyawan yang mudik ke DIY saja yang kemungkinan besar berwisata ke tempat tersebut"
   ]
  },
  {
   "cell_type": "code",
   "execution_count": 99,
   "metadata": {},
   "outputs": [
    {
     "data": {
      "text/html": [
       "<table>\n",
       "<thead><tr><th scope=col>lokasi_dominan</th><th scope=col>employee</th></tr></thead>\n",
       "<tbody>\n",
       "\t<tr><td>Kabupaten Sleman</td><td>15              </td></tr>\n",
       "\t<tr><td>Kota Yogyakarta </td><td>14              </td></tr>\n",
       "</tbody>\n",
       "</table>\n"
      ],
      "text/latex": [
       "\\begin{tabular}{r|ll}\n",
       " lokasi\\_dominan & employee\\\\\n",
       "\\hline\n",
       "\t Kabupaten Sleman & 15              \\\\\n",
       "\t Kota Yogyakarta  & 14              \\\\\n",
       "\\end{tabular}\n"
      ],
      "text/markdown": [
       "\n",
       "lokasi_dominan | employee | \n",
       "|---|---|\n",
       "| Kabupaten Sleman | 15               | \n",
       "| Kota Yogyakarta  | 14               | \n",
       "\n",
       "\n"
      ],
      "text/plain": [
       "  lokasi_dominan   employee\n",
       "1 Kabupaten Sleman 15      \n",
       "2 Kota Yogyakarta  14      "
      ]
     },
     "metadata": {},
     "output_type": "display_data"
    },
    {
     "data": {
      "text/html": [
       "<span style=white-space:pre-wrap>'The answer is:  29 Employees'</span>"
      ],
      "text/latex": [
       "'The answer is:  29 Employees'"
      ],
      "text/markdown": [
       "<span style=white-space:pre-wrap>'The answer is:  29 Employees'</span>"
      ],
      "text/plain": [
       "[1] \"The answer is:  29 Employees\""
      ]
     },
     "metadata": {},
     "output_type": "display_data"
    }
   ],
   "source": [
    "data.location %>%\n",
    "    group_by(lokasi_dominan) %>%\n",
    "    summarise(\n",
    "        employee = n_distinct(id)\n",
    "    ) %>%\n",
    "    filter(\n",
    "        lokasi_dominan %in% c('Kota Yogyakarta',\n",
    "                              'Kabupaten Sleman')\n",
    "    )\n",
    "paste('The answer is:',\n",
    "      ' 29 Employees')"
   ]
  },
  {
   "cell_type": "markdown",
   "metadata": {},
   "source": [
    "<h3>19</h3>\n",
    "Tanggal berapakah menjadi favorit pulang ke Jabodetabek"
   ]
  },
  {
   "cell_type": "code",
   "execution_count": 100,
   "metadata": {},
   "outputs": [
    {
     "data": {
      "text/html": [
       "<table>\n",
       "<thead><tr><th scope=col>count</th><th scope=col>lag.one</th><th scope=col>date</th><th scope=col>count.of.mudik</th></tr></thead>\n",
       "<tbody>\n",
       "\t<tr><td>100    </td><td> 0     </td><td>May_21 </td><td>-100   </td></tr>\n",
       "\t<tr><td> 66    </td><td>17     </td><td>June_9 </td><td> -49   </td></tr>\n",
       "\t<tr><td> 98    </td><td>81     </td><td>June_11</td><td> -17   </td></tr>\n",
       "\t<tr><td> 81    </td><td>66     </td><td>June_10</td><td> -15   </td></tr>\n",
       "\t<tr><td> 17    </td><td> 9     </td><td>June_8 </td><td>  -8   </td></tr>\n",
       "\t<tr><td>100    </td><td>97     </td><td>June_14</td><td>  -3   </td></tr>\n",
       "</tbody>\n",
       "</table>\n"
      ],
      "text/latex": [
       "\\begin{tabular}{r|llll}\n",
       " count & lag.one & date & count.of.mudik\\\\\n",
       "\\hline\n",
       "\t 100       &  0        & May\\_21  & -100     \\\\\n",
       "\t  66       & 17        & June\\_9  &  -49     \\\\\n",
       "\t  98       & 81        & June\\_11 &  -17     \\\\\n",
       "\t  81       & 66        & June\\_10 &  -15     \\\\\n",
       "\t  17       &  9        & June\\_8  &   -8     \\\\\n",
       "\t 100       & 97        & June\\_14 &   -3     \\\\\n",
       "\\end{tabular}\n"
      ],
      "text/markdown": [
       "\n",
       "count | lag.one | date | count.of.mudik | \n",
       "|---|---|---|---|---|---|\n",
       "| 100     |  0      | May_21  | -100    | \n",
       "|  66     | 17      | June_9  |  -49    | \n",
       "|  98     | 81      | June_11 |  -17    | \n",
       "|  81     | 66      | June_10 |  -15    | \n",
       "|  17     |  9      | June_8  |   -8    | \n",
       "| 100     | 97      | June_14 |   -3    | \n",
       "\n",
       "\n"
      ],
      "text/plain": [
       "  count lag.one date    count.of.mudik\n",
       "1 100    0      May_21  -100          \n",
       "2  66   17      June_9   -49          \n",
       "3  98   81      June_11  -17          \n",
       "4  81   66      June_10  -15          \n",
       "5  17    9      June_8    -8          \n",
       "6 100   97      June_14   -3          "
      ]
     },
     "metadata": {},
     "output_type": "display_data"
    },
    {
     "data": {
      "text/html": [
       "'The answer is: 9th of June'"
      ],
      "text/latex": [
       "'The answer is: 9th of June'"
      ],
      "text/markdown": [
       "'The answer is: 9th of June'"
      ],
      "text/plain": [
       "[1] \"The answer is: 9th of June\""
      ]
     },
     "metadata": {},
     "output_type": "display_data"
    }
   ],
   "source": [
    "data.transport = as.data.frame(colSums(data.mudik.final[,5:(dim(data.mudik.final)[2]-2)]))\n",
    "colnames(data.transport) = c('count')\n",
    "\n",
    "# Count of employees who have 'mudik'\n",
    "lag.one = cbind(0,\n",
    "             t(data.transport[,]))\n",
    "lag.one = lag.one[-length(lag.one)] # Erase last element in vector move\n",
    "data.transport = data.frame(data.transport,\n",
    "                            lag.one)\n",
    "data.transport %>%\n",
    "    mutate(\n",
    "        date = rownames(data.transport),\n",
    "        count.of.mudik = lag.one - count\n",
    "    ) %>%\n",
    "    arrange(count.of.mudik) %>%    \n",
    "    head()\n",
    "paste('The answer is:',\n",
    "      '9th of June')"
   ]
  },
  {
   "cell_type": "markdown",
   "metadata": {},
   "source": [
    "<h3>20</h3>\n",
    "Ada karyawan yang pulang ke Lampung Selatan dengan ID 80. Tanggal berapa dia sudah kembali ke Jabodetabek"
   ]
  },
  {
   "cell_type": "code",
   "execution_count": 101,
   "metadata": {},
   "outputs": [
    {
     "data": {
      "text/html": [
       "<table>\n",
       "<thead><tr><th scope=col>id</th><th scope=col>jenis_kelamin</th><th scope=col>divisi</th><th scope=col>umur</th><th scope=col>May_21</th><th scope=col>May_22</th><th scope=col>May_23</th><th scope=col>May_24</th><th scope=col>May_25</th><th scope=col>May_26</th><th scope=col>...</th><th scope=col>June_6</th><th scope=col>June_7</th><th scope=col>June_8</th><th scope=col>June_9</th><th scope=col>June_10</th><th scope=col>June_11</th><th scope=col>June_12</th><th scope=col>June_13</th><th scope=col>June_14</th><th scope=col>June_15</th></tr></thead>\n",
       "<tbody>\n",
       "\t<tr><td>80                       </td><td>Perempuan                </td><td>Data Science             </td><td>33                       </td><td>Kota Bogor               </td><td>Jakarta Barat            </td><td>Jakarta Selatan          </td><td>Kota Bogor               </td><td>Jakarta Barat            </td><td>Jakarta Selatan          </td><td>...                      </td><td>Kabupaten Lampung Selatan</td><td>Kabupaten Lampung Selatan</td><td>Kabupaten Tangerang      </td><td>Kota Bogor               </td><td>Jakarta Selatan          </td><td>Jakarta Barat            </td><td>Kota Bogor               </td><td>Jakarta Selatan          </td><td>Jakarta Barat            </td><td>Kota Bogor               </td></tr>\n",
       "</tbody>\n",
       "</table>\n"
      ],
      "text/latex": [
       "\\begin{tabular}{r|llllllllllllllllllllllllllllll}\n",
       " id & jenis\\_kelamin & divisi & umur & May\\_21 & May\\_22 & May\\_23 & May\\_24 & May\\_25 & May\\_26 & ... & June\\_6 & June\\_7 & June\\_8 & June\\_9 & June\\_10 & June\\_11 & June\\_12 & June\\_13 & June\\_14 & June\\_15\\\\\n",
       "\\hline\n",
       "\t 80                        & Perempuan                 & Data Science              & 33                        & Kota Bogor                & Jakarta Barat             & Jakarta Selatan           & Kota Bogor                & Jakarta Barat             & Jakarta Selatan           & ...                       & Kabupaten Lampung Selatan & Kabupaten Lampung Selatan & Kabupaten Tangerang       & Kota Bogor                & Jakarta Selatan           & Jakarta Barat             & Kota Bogor                & Jakarta Selatan           & Jakarta Barat             & Kota Bogor               \\\\\n",
       "\\end{tabular}\n"
      ],
      "text/markdown": [
       "\n",
       "id | jenis_kelamin | divisi | umur | May_21 | May_22 | May_23 | May_24 | May_25 | May_26 | ... | June_6 | June_7 | June_8 | June_9 | June_10 | June_11 | June_12 | June_13 | June_14 | June_15 | \n",
       "|---|\n",
       "| 80                        | Perempuan                 | Data Science              | 33                        | Kota Bogor                | Jakarta Barat             | Jakarta Selatan           | Kota Bogor                | Jakarta Barat             | Jakarta Selatan           | ...                       | Kabupaten Lampung Selatan | Kabupaten Lampung Selatan | Kabupaten Tangerang       | Kota Bogor                | Jakarta Selatan           | Jakarta Barat             | Kota Bogor                | Jakarta Selatan           | Jakarta Barat             | Kota Bogor                | \n",
       "\n",
       "\n"
      ],
      "text/plain": [
       "  id jenis_kelamin divisi       umur May_21     May_22        May_23         \n",
       "1 80 Perempuan     Data Science 33   Kota Bogor Jakarta Barat Jakarta Selatan\n",
       "  May_24     May_25        May_26          ... June_6                   \n",
       "1 Kota Bogor Jakarta Barat Jakarta Selatan ... Kabupaten Lampung Selatan\n",
       "  June_7                    June_8              June_9     June_10        \n",
       "1 Kabupaten Lampung Selatan Kabupaten Tangerang Kota Bogor Jakarta Selatan\n",
       "  June_11       June_12    June_13         June_14       June_15   \n",
       "1 Jakarta Barat Kota Bogor Jakarta Selatan Jakarta Barat Kota Bogor"
      ]
     },
     "metadata": {},
     "output_type": "display_data"
    },
    {
     "data": {
      "text/html": [
       "'The answer is: 8th of June'"
      ],
      "text/latex": [
       "'The answer is: 8th of June'"
      ],
      "text/markdown": [
       "'The answer is: 8th of June'"
      ],
      "text/plain": [
       "[1] \"The answer is: 8th of June\""
      ]
     },
     "metadata": {},
     "output_type": "display_data"
    }
   ],
   "source": [
    "data.final %>%\n",
    "    filter(id == 80)\n",
    "paste('The answer is:',\n",
    "      '8th of June')"
   ]
  },
  {
   "cell_type": "markdown",
   "metadata": {},
   "source": [
    "<h3>21</h3>\n",
    "Pada tanggal berapa seluruh karyawan TokoLapak sudah ada di Jabodetabek"
   ]
  },
  {
   "cell_type": "code",
   "execution_count": 102,
   "metadata": {},
   "outputs": [
    {
     "data": {
      "text/html": [
       "<dl class=dl-horizontal>\n",
       "\t<dt>May_21</dt>\n",
       "\t\t<dd>100</dd>\n",
       "\t<dt>May_22</dt>\n",
       "\t\t<dd>100</dd>\n",
       "\t<dt>June_14</dt>\n",
       "\t\t<dd>100</dd>\n",
       "\t<dt>June_15</dt>\n",
       "\t\t<dd>100</dd>\n",
       "\t<dt>May_24</dt>\n",
       "\t\t<dd>98</dd>\n",
       "\t<dt>May_25</dt>\n",
       "\t\t<dd>98</dd>\n",
       "</dl>\n"
      ],
      "text/latex": [
       "\\begin{description*}\n",
       "\\item[May\\textbackslash{}\\_21] 100\n",
       "\\item[May\\textbackslash{}\\_22] 100\n",
       "\\item[June\\textbackslash{}\\_14] 100\n",
       "\\item[June\\textbackslash{}\\_15] 100\n",
       "\\item[May\\textbackslash{}\\_24] 98\n",
       "\\item[May\\textbackslash{}\\_25] 98\n",
       "\\end{description*}\n"
      ],
      "text/markdown": [
       "May_21\n",
       ":   100May_22\n",
       ":   100June_14\n",
       ":   100June_15\n",
       ":   100May_24\n",
       ":   98May_25\n",
       ":   98\n",
       "\n"
      ],
      "text/plain": [
       " May_21  May_22 June_14 June_15  May_24  May_25 \n",
       "    100     100     100     100      98      98 "
      ]
     },
     "metadata": {},
     "output_type": "display_data"
    },
    {
     "data": {
      "text/html": [
       "'The answer is: 14th of June'"
      ],
      "text/latex": [
       "'The answer is: 14th of June'"
      ],
      "text/markdown": [
       "'The answer is: 14th of June'"
      ],
      "text/plain": [
       "[1] \"The answer is: 14th of June\""
      ]
     },
     "metadata": {},
     "output_type": "display_data"
    }
   ],
   "source": [
    "case.21 = colSums(data.mudik.final[,5:(dim(data.mudik.final)[2]-2)])\n",
    "head(sort(case.21,\n",
    "          decreasing = TRUE))\n",
    "paste('The answer is:',\n",
    "      '14th of June')"
   ]
  },
  {
   "cell_type": "markdown",
   "metadata": {},
   "source": [
    "<h3>22</h3>\n",
    "Berapakah median dari umur seluruh karyawan TokoLapak"
   ]
  },
  {
   "cell_type": "code",
   "execution_count": 103,
   "metadata": {},
   "outputs": [
    {
     "data": {
      "text/html": [
       "'The answer is: 27'"
      ],
      "text/latex": [
       "'The answer is: 27'"
      ],
      "text/markdown": [
       "'The answer is: 27'"
      ],
      "text/plain": [
       "[1] \"The answer is: 27\""
      ]
     },
     "metadata": {},
     "output_type": "display_data"
    }
   ],
   "source": [
    "case.22 = median(data.final$umur)\n",
    "paste('The answer is:',\n",
    "      case.22)"
   ]
  },
  {
   "cell_type": "markdown",
   "metadata": {},
   "source": [
    "<h3>23</h3>\n",
    "Berapakah jumlah karyawan TokoLapak"
   ]
  },
  {
   "cell_type": "code",
   "execution_count": 104,
   "metadata": {},
   "outputs": [
    {
     "data": {
      "text/html": [
       "'The answer is: 100 Employee'"
      ],
      "text/latex": [
       "'The answer is: 100 Employee'"
      ],
      "text/markdown": [
       "'The answer is: 100 Employee'"
      ],
      "text/plain": [
       "[1] \"The answer is: 100 Employee\""
      ]
     },
     "metadata": {},
     "output_type": "display_data"
    }
   ],
   "source": [
    "case.23 = dim(data.employee)[1]\n",
    "paste('The answer is:',\n",
    "      case.23,\n",
    "      'Employee')"
   ]
  },
  {
   "cell_type": "markdown",
   "metadata": {},
   "source": [
    "<h3>24</h3>\n",
    "Divisi apakah yang persentase pemudiknya paling sedikit"
   ]
  },
  {
   "cell_type": "code",
   "execution_count": 105,
   "metadata": {},
   "outputs": [
    {
     "data": {
      "text/html": [
       "<table>\n",
       "<thead><tr><th scope=col>divisi</th><th scope=col>count</th><th scope=col>count.mudik</th><th scope=col>perc.mudik</th></tr></thead>\n",
       "<tbody>\n",
       "\t<tr><td>Software Engineer    </td><td>31                   </td><td>4                    </td><td>0.87                 </td></tr>\n",
       "\t<tr><td>Marketing            </td><td> 9                   </td><td>1                    </td><td>0.89                 </td></tr>\n",
       "\t<tr><td>Data Engineer        </td><td>14                   </td><td>1                    </td><td>0.93                 </td></tr>\n",
       "\t<tr><td>Business Intelligence</td><td>21                   </td><td>1                    </td><td>0.95                 </td></tr>\n",
       "\t<tr><td>Customer Service     </td><td>15                   </td><td>0                    </td><td>1.00                 </td></tr>\n",
       "\t<tr><td>Data Science         </td><td>10                   </td><td>0                    </td><td>1.00                 </td></tr>\n",
       "</tbody>\n",
       "</table>\n"
      ],
      "text/latex": [
       "\\begin{tabular}{r|llll}\n",
       " divisi & count & count.mudik & perc.mudik\\\\\n",
       "\\hline\n",
       "\t Software Engineer     & 31                    & 4                     & 0.87                 \\\\\n",
       "\t Marketing             &  9                    & 1                     & 0.89                 \\\\\n",
       "\t Data Engineer         & 14                    & 1                     & 0.93                 \\\\\n",
       "\t Business Intelligence & 21                    & 1                     & 0.95                 \\\\\n",
       "\t Customer Service      & 15                    & 0                     & 1.00                 \\\\\n",
       "\t Data Science          & 10                    & 0                     & 1.00                 \\\\\n",
       "\\end{tabular}\n"
      ],
      "text/markdown": [
       "\n",
       "divisi | count | count.mudik | perc.mudik | \n",
       "|---|---|---|---|---|---|\n",
       "| Software Engineer     | 31                    | 4                     | 0.87                  | \n",
       "| Marketing             |  9                    | 1                     | 0.89                  | \n",
       "| Data Engineer         | 14                    | 1                     | 0.93                  | \n",
       "| Business Intelligence | 21                    | 1                     | 0.95                  | \n",
       "| Customer Service      | 15                    | 0                     | 1.00                  | \n",
       "| Data Science          | 10                    | 0                     | 1.00                  | \n",
       "\n",
       "\n"
      ],
      "text/plain": [
       "  divisi                count count.mudik perc.mudik\n",
       "1 Software Engineer     31    4           0.87      \n",
       "2 Marketing              9    1           0.89      \n",
       "3 Data Engineer         14    1           0.93      \n",
       "4 Business Intelligence 21    1           0.95      \n",
       "5 Customer Service      15    0           1.00      \n",
       "6 Data Science          10    0           1.00      "
      ]
     },
     "metadata": {},
     "output_type": "display_data"
    },
    {
     "data": {
      "text/html": [
       "'The answer is: Software Engineer'"
      ],
      "text/latex": [
       "'The answer is: Software Engineer'"
      ],
      "text/markdown": [
       "'The answer is: Software Engineer'"
      ],
      "text/plain": [
       "[1] \"The answer is: Software Engineer\""
      ]
     },
     "metadata": {},
     "output_type": "display_data"
    }
   ],
   "source": [
    "data.mudik.final %>%\n",
    "    group_by(\n",
    "        divisi\n",
    "    ) %>%\n",
    "    summarise(\n",
    "        count = n(),\n",
    "        count.mudik = sum(status.total),\n",
    "        perc.mudik = 1-round(x = count.mudik/count,\n",
    "                             digits = 2)\n",
    "    ) %>%\n",
    "    arrange(perc.mudik)\n",
    "paste('The answer is:',\n",
    "     'Software Engineer')"
   ]
  },
  {
   "cell_type": "markdown",
   "metadata": {},
   "source": [
    "<h3>25</h3>\n",
    "Karyawan yang memiliki peluang untuk dititipi Lapis Legit Dzulaikha"
   ]
  },
  {
   "cell_type": "code",
   "execution_count": 106,
   "metadata": {},
   "outputs": [
    {
     "data": {
      "text/html": [
       "<table>\n",
       "<thead><tr><th scope=col>id</th><th scope=col>employee</th></tr></thead>\n",
       "<tbody>\n",
       "\t<tr><td>94</td><td>7 </td></tr>\n",
       "\t<tr><td>87</td><td>9 </td></tr>\n",
       "\t<tr><td>63</td><td>8 </td></tr>\n",
       "\t<tr><td>61</td><td>5 </td></tr>\n",
       "\t<tr><td>58</td><td>7 </td></tr>\n",
       "\t<tr><td>49</td><td>2 </td></tr>\n",
       "</tbody>\n",
       "</table>\n"
      ],
      "text/latex": [
       "\\begin{tabular}{r|ll}\n",
       " id & employee\\\\\n",
       "\\hline\n",
       "\t 94 & 7 \\\\\n",
       "\t 87 & 9 \\\\\n",
       "\t 63 & 8 \\\\\n",
       "\t 61 & 5 \\\\\n",
       "\t 58 & 7 \\\\\n",
       "\t 49 & 2 \\\\\n",
       "\\end{tabular}\n"
      ],
      "text/markdown": [
       "\n",
       "id | employee | \n",
       "|---|---|---|---|---|---|\n",
       "| 94 | 7  | \n",
       "| 87 | 9  | \n",
       "| 63 | 8  | \n",
       "| 61 | 5  | \n",
       "| 58 | 7  | \n",
       "| 49 | 2  | \n",
       "\n",
       "\n"
      ],
      "text/plain": [
       "  id employee\n",
       "1 94 7       \n",
       "2 87 9       \n",
       "3 63 8       \n",
       "4 61 5       \n",
       "5 58 7       \n",
       "6 49 2       "
      ]
     },
     "metadata": {},
     "output_type": "display_data"
    },
    {
     "data": {
      "text/html": [
       "'The answer is: Employee with ID 94'"
      ],
      "text/latex": [
       "'The answer is: Employee with ID 94'"
      ],
      "text/markdown": [
       "'The answer is: Employee with ID 94'"
      ],
      "text/plain": [
       "[1] \"The answer is: Employee with ID 94\""
      ]
     },
     "metadata": {},
     "output_type": "display_data"
    }
   ],
   "source": [
    "data.location %>%\n",
    "    filter(\n",
    "        lokasi_dominan == 'Kota Medan'\n",
    "    ) %>%\n",
    "    group_by(id) %>%\n",
    "    summarise(employee = n()) %>%\n",
    "    arrange(desc(id)) %>%\n",
    "    head()\n",
    "paste('The answer is:',\n",
    "     'Employee with ID 94')"
   ]
  }
 ],
 "metadata": {
  "kernelspec": {
   "display_name": "R",
   "language": "R",
   "name": "ir"
  },
  "language_info": {
   "codemirror_mode": "r",
   "file_extension": ".r",
   "mimetype": "text/x-r-source",
   "name": "R",
   "pygments_lexer": "r",
   "version": "3.5.1"
  }
 },
 "nbformat": 4,
 "nbformat_minor": 2
}
